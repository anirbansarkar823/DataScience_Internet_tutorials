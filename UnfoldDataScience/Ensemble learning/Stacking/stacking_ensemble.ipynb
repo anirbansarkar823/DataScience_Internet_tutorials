{
  "nbformat": 4,
  "nbformat_minor": 0,
  "metadata": {
    "colab": {
      "name": "stacking_ensemble.ipynb",
      "provenance": [],
      "collapsed_sections": []
    },
    "kernelspec": {
      "name": "python3",
      "display_name": "Python 3"
    },
    "language_info": {
      "name": "python"
    }
  },
  "cells": [
    {
      "cell_type": "code",
      "metadata": {
        "id": "mSCKc5Vq6q0L"
      },
      "source": [
        "# Importig needed packages\n",
        "from sklearn.ensemble import RandomForestClassifier\n",
        "from sklearn.svm import LinearSVC\n",
        "from sklearn.linear_model import LogisticRegression\n",
        "from sklearn.naive_bayes import GaussianNB\n",
        "from sklearn.neighbors import KNeighborsClassifier\n",
        "from sklearn import model_selection\n",
        "# from sklearn.ensemble import StackingClassifier -- we can use this one too\n",
        "from mlxtend.classifier import StackingClassifier\n",
        "\n"
      ],
      "execution_count": null,
      "outputs": []
    },
    {
      "cell_type": "markdown",
      "metadata": {
        "id": "qez_BIvW9ba6"
      },
      "source": [
        "# Stack of estimators with a final classifier.\n",
        "\n",
        "# Stacked generalization consists in stacking the output of individual estimator and use a classifier to compute the final prediction. Stacking allows to use the strength of each individual estimator by using their output as input of a final estimator.\n",
        "\n",
        "# Note that estimators_ are fitted on the full X while final_estimator_ is trained using cross-validated predictions of the base estimators using cross_val_predict."
      ]
    },
    {
      "cell_type": "code",
      "metadata": {
        "colab": {
          "base_uri": "https://localhost:8080/"
        },
        "id": "2tIq9DSy-TKm",
        "outputId": "f0a52e9c-96ba-4a35-e800-af3d58da3f33"
      },
      "source": [
        "iris.data.shape"
      ],
      "execution_count": null,
      "outputs": [
        {
          "output_type": "execute_result",
          "data": {
            "text/plain": [
              "(150, 4)"
            ]
          },
          "metadata": {
            "tags": []
          },
          "execution_count": 6
        }
      ]
    },
    {
      "cell_type": "code",
      "metadata": {
        "id": "9fxknzNS8r26"
      },
      "source": [
        "#Creating the dataset\n",
        "\n",
        "from sklearn import datasets\n",
        "\n",
        "iris = datasets.load_iris()\n",
        "X_train, y_train = iris.data[:, 1:3], iris.target # taking entire dataset for training, only two columns"
      ],
      "execution_count": null,
      "outputs": []
    },
    {
      "cell_type": "code",
      "metadata": {
        "id": "kD6JDLWNSup6"
      },
      "source": [
        "# First defining the base learners\n",
        "myclf1 = KNeighborsClassifier(n_neighbors=1)\n",
        "myclf2 = RandomForestClassifier(random_state=1)\n",
        "myclf3 = GaussianNB()"
      ],
      "execution_count": null,
      "outputs": []
    },
    {
      "cell_type": "code",
      "metadata": {
        "id": "rAyepcsVTYeD"
      },
      "source": [
        "# meta model\n",
        "meta_model = LogisticRegression()"
      ],
      "execution_count": null,
      "outputs": []
    },
    {
      "cell_type": "code",
      "metadata": {
        "id": "7k5TFj6ETmct"
      },
      "source": [
        "# Creating stacking classifier with above models\n",
        "stacking_clf = StackingClassifier(classifiers=[myclf1, myclf2, myclf3], meta_classifier=meta_model)"
      ],
      "execution_count": null,
      "outputs": []
    },
    {
      "cell_type": "code",
      "metadata": {
        "colab": {
          "base_uri": "https://localhost:8080/"
        },
        "id": "gAxpmQv9WcWL",
        "outputId": "f8945f1f-bfce-4447-89a1-ae2e31643aa7"
      },
      "source": [
        "# Running all the models\n",
        "print(\"Doing 3-fold cross validation here:\\n\")\n",
        "\n",
        "for iterclf, iterLabel in zip([myclf1, myclf2, myclf3, stacking_clf], \n",
        "                              ['K-Nearest Neighbours model', 'Random Forest Model', 'Naive Bayes Model', 'StackingClassifier model']):\n",
        "  scores = model_selection.cross_val_score(iterclf, X_train, y_train, cv=50, scoring='accuracy')\n",
        "  print(f\"Accuracy: {scores.mean():{6}.{3}} {scores.std():{6}.{3}} {iterLabel}\")"
      ],
      "execution_count": 18,
      "outputs": [
        {
          "output_type": "stream",
          "text": [
            "Doing 3-fold cross validation here:\n",
            "\n",
            "Accuracy:   0.94  0.144 K-Nearest Neighbours model\n",
            "Accuracy:  0.947  0.122 Random Forest Model\n",
            "Accuracy:  0.913  0.161 Naive Bayes Model\n",
            "Accuracy:  0.953  0.116 StackingClassifier model\n"
          ],
          "name": "stdout"
        }
      ]
    }
  ]
}