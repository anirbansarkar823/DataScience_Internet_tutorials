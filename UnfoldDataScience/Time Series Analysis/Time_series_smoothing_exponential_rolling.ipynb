{
  "nbformat": 4,
  "nbformat_minor": 0,
  "metadata": {
    "colab": {
      "name": "Time_series_smoothing_exponential_rolling.ipynb",
      "provenance": [],
      "collapsed_sections": []
    },
    "kernelspec": {
      "name": "python3",
      "display_name": "Python 3"
    },
    "language_info": {
      "name": "python"
    }
  },
  "cells": [
    {
      "cell_type": "code",
      "metadata": {
        "id": "wxIk_jGDXLnI"
      },
      "source": [
        "# rolling statistics can be used to \n",
        "    # smoothen the time series (converting from stationary to non-stationary)\n",
        "    # can be used to predict immediate values (just next 1-2 values)"
      ],
      "execution_count": null,
      "outputs": []
    },
    {
      "cell_type": "markdown",
      "metadata": {
        "id": "JJqsZsO-wAYk"
      },
      "source": [
        "### Smoothing Techniques Discussed:\n",
        "> Moving Average\n",
        "\n",
        "> Simple Smoothing \n",
        "\n",
        "> Holt method"
      ]
    },
    {
      "cell_type": "code",
      "metadata": {
        "colab": {
          "base_uri": "https://localhost:8080/"
        },
        "id": "cfVD1tmvv9cF",
        "outputId": "02926a98-d0a3-434b-ef0a-93c08dd1ece6"
      },
      "source": [
        "# Importing Data and Packages\n",
        "import pandas as pd\n",
        "import matplotlib.pyplot as plt\n",
        "from statsmodels.tsa.api import ExponentialSmoothing, SimpleExpSmoothing, Holt\n",
        "\n",
        "from pylab import rcParams\n",
        "rcParams['figure.figsize'] = 20, 5"
      ],
      "execution_count": null,
      "outputs": [
        {
          "output_type": "stream",
          "text": [
            "/usr/local/lib/python3.7/dist-packages/statsmodels/tools/_testing.py:19: FutureWarning: pandas.util.testing is deprecated. Use the functions in the public API at pandas.testing instead.\n",
            "  import pandas.util.testing as tm\n"
          ],
          "name": "stderr"
        }
      ]
    },
    {
      "cell_type": "code",
      "metadata": {
        "id": "q109eqoWxo1n"
      },
      "source": [
        "import warnings\n",
        "warnings.filterwarnings('ignore')"
      ],
      "execution_count": null,
      "outputs": []
    },
    {
      "cell_type": "code",
      "metadata": {
        "id": "MJ6uQxFXMN2B"
      },
      "source": [
        "ElectricityTimeSeries = pd.read_csv('Electric_Production.csv', header=0, index_col=0)\n",
        "\n",
        "ElectricityTimeSeries.shape\n"
      ],
      "execution_count": null,
      "outputs": []
    },
    {
      "cell_type": "markdown",
      "metadata": {
        "id": "BRMM4jqF2QFV"
      },
      "source": [
        "## Moving average Method"
      ]
    },
    {
      "cell_type": "code",
      "metadata": {
        "id": "GS1ogxUI19nR"
      },
      "source": [
        "plt.plot(ElectricityTimeSeries[1:50]['Units '])\n",
        "plt.xticks(rotation=30)\n",
        "plt.show()"
      ],
      "execution_count": null,
      "outputs": []
    },
    {
      "cell_type": "code",
      "metadata": {
        "id": "x0LvtTf12GNQ"
      },
      "source": [
        "# rolling average (or moving average) transform\n",
        "rollingSeries = ElectricityTimeSeries[1:50].rolling(window=5)\n",
        "rollingMean = rollingSeries.mean() #finding rolling mean MA(5)\n",
        "print(rollingMean.head(10))\n",
        "# if we increase the window size, the curve will become more smooth\n",
        "\n",
        "\n"
      ],
      "execution_count": null,
      "outputs": []
    },
    {
      "cell_type": "code",
      "metadata": {
        "id": "5zL6cCux2M74"
      },
      "source": [
        "# plot transformed dataset; moving average/ rolling average\n",
        "rollingMean.plot(color='red')\n",
        "plt.show()\n",
        "# The seasonality has reduced a bit, a bit smoothen\n",
        "\n"
      ],
      "execution_count": null,
      "outputs": []
    },
    {
      "cell_type": "markdown",
      "metadata": {
        "id": "OPnxmUid3WLX"
      },
      "source": [
        "## Simple Exponential Smoothing"
      ]
    },
    {
      "cell_type": "code",
      "metadata": {
        "id": "H1Rus3rr3Uoe"
      },
      "source": [
        "\n",
        "# Exponential smoothing-single\n",
        "\n",
        "data = ElectricityTimeSeries[1:50]\n",
        "fit1 = SimpleExpSmoothing(data).fit(smoothing_level=0.2, optimized=False) #lower alpha value: less preference to recent observation\n",
        "fit2 = SimpleExpSmoothing(data).fit(smoothing_level=0.8, optimized=False) #higher alpha value: more preference to recent observation\n",
        "\n"
      ],
      "execution_count": null,
      "outputs": []
    },
    {
      "cell_type": "code",
      "metadata": {
        "id": "smcoseWZ3f0g"
      },
      "source": [
        "# plotting the Simple exponential smoothing\n",
        "plt.figure(figsize=(18,8))\n",
        "plt.plot(ElectricityTimeSeries[1:50], marker='o', color='black')\n",
        "plt.xticks(rotation=30)\n",
        "\n",
        "plt.plot(fit1.fittedvalues, marker='o', color='blue')\n",
        "\n",
        "plt.plot(fit2.fittedvalues, market='o', color='red')"
      ],
      "execution_count": null,
      "outputs": []
    },
    {
      "cell_type": "markdown",
      "metadata": {
        "id": "pPEKn-sf64MA"
      },
      "source": [
        " ## Holt method for exponential smoothing"
      ]
    },
    {
      "cell_type": "code",
      "metadata": {
        "id": "tkQ05k0z5c-S"
      },
      "source": [
        "\n",
        "fit1 = Holt(data).fit() #assumption is linear trend\n",
        "\n",
        "fit2 = Holt(data, exponential=True).fit() #assumption is exponential trend\n",
        "\n",
        "\n"
      ],
      "execution_count": null,
      "outputs": []
    },
    {
      "cell_type": "code",
      "metadata": {
        "id": "VQdQ3l1r66ZM"
      },
      "source": [
        "# plotting the exponential smoothing achieved using holt method\n",
        "plt.plot(data, marker='o', color='black')\n",
        "plt.xticks(rotation=30)\n",
        "plt.plot(fit1.fittedvalues, marker='o', color='blue')\n",
        "plt.plot(fit2.fittedvalues, marker='o', color='red')"
      ],
      "execution_count": null,
      "outputs": []
    }
  ]
}