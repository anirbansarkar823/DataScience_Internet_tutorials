{
  "nbformat": 4,
  "nbformat_minor": 0,
  "metadata": {
    "kernelspec": {
      "display_name": "Python 3",
      "language": "python",
      "name": "python3"
    },
    "language_info": {
      "codemirror_mode": {
        "name": "ipython",
        "version": 3
      },
      "file_extension": ".py",
      "mimetype": "text/x-python",
      "name": "python",
      "nbconvert_exporter": "python",
      "pygments_lexer": "ipython3",
      "version": "3.7.4"
    },
    "colab": {
      "name": "biasInMachineLearning.ipynb",
      "provenance": [],
      "collapsed_sections": []
    }
  },
  "cells": [
    {
      "cell_type": "markdown",
      "metadata": {
        "id": "VDDlgMaBjtGD"
      },
      "source": [
        "# Mitigating Bias in AI with AIF360\n",
        "This jupyter notebook is accompanied by a Medium article \"bryantruong\" wrote, published [here](https://bryantruong3139.medium.com/mitigating-bias-in-ai-with-aif360-b4305d1f88a9): "
      ]
    },
    {
      "cell_type": "markdown",
      "metadata": {
        "id": "PeXjL3u_jtGH"
      },
      "source": [
        "### Loading and preparing the dataset"
      ]
    },
    {
      "cell_type": "markdown",
      "metadata": {
        "id": "11iYggfykfLt"
      },
      "source": [
        "### Data Import\n",
        "**Importing data from google drive**"
      ]
    },
    {
      "cell_type": "code",
      "metadata": {
        "colab": {
          "base_uri": "https://localhost:8080/"
        },
        "id": "YYr8mhb0koVB",
        "outputId": "c363db9a-8d5d-428f-87cc-9e7b726702bf"
      },
      "source": [
        "# importing from google drive\n",
        "from google.colab import drive\n",
        "drive.mount('/content/drive')"
      ],
      "execution_count": 1,
      "outputs": [
        {
          "output_type": "stream",
          "text": [
            "Mounted at /content/drive\n"
          ],
          "name": "stdout"
        }
      ]
    },
    {
      "cell_type": "code",
      "metadata": {
        "colab": {
          "base_uri": "https://localhost:8080/",
          "height": 241
        },
        "id": "GfTOhZqckt_h",
        "outputId": "31ca9ee3-8a42-4103-f427-eeff23d1d54d"
      },
      "source": [
        "import pandas as pd\n",
        "path = \"/content/drive/MyDrive/Colab Notebooks/credit_risk.csv\"\n",
        "df = pd.read_csv(path)\n",
        "# Dataset is now stored in a Pandas Dataframe\n",
        "df.head()"
      ],
      "execution_count": 68,
      "outputs": [
        {
          "output_type": "execute_result",
          "data": {
            "text/html": [
              "<div>\n",
              "<style scoped>\n",
              "    .dataframe tbody tr th:only-of-type {\n",
              "        vertical-align: middle;\n",
              "    }\n",
              "\n",
              "    .dataframe tbody tr th {\n",
              "        vertical-align: top;\n",
              "    }\n",
              "\n",
              "    .dataframe thead th {\n",
              "        text-align: right;\n",
              "    }\n",
              "</style>\n",
              "<table border=\"1\" class=\"dataframe\">\n",
              "  <thead>\n",
              "    <tr style=\"text-align: right;\">\n",
              "      <th></th>\n",
              "      <th>Loan_ID</th>\n",
              "      <th>Gender</th>\n",
              "      <th>Married</th>\n",
              "      <th>Dependents</th>\n",
              "      <th>Education</th>\n",
              "      <th>Self_Employed</th>\n",
              "      <th>ApplicantIncome</th>\n",
              "      <th>CoapplicantIncome</th>\n",
              "      <th>LoanAmount</th>\n",
              "      <th>Loan_Amount_Term</th>\n",
              "      <th>Credit_History</th>\n",
              "      <th>Property_Area</th>\n",
              "      <th>Loan_Status</th>\n",
              "    </tr>\n",
              "  </thead>\n",
              "  <tbody>\n",
              "    <tr>\n",
              "      <th>0</th>\n",
              "      <td>LP001002</td>\n",
              "      <td>Male</td>\n",
              "      <td>No</td>\n",
              "      <td>0</td>\n",
              "      <td>Graduate</td>\n",
              "      <td>No</td>\n",
              "      <td>5849</td>\n",
              "      <td>0.0</td>\n",
              "      <td>NaN</td>\n",
              "      <td>360.0</td>\n",
              "      <td>1.0</td>\n",
              "      <td>Urban</td>\n",
              "      <td>Y</td>\n",
              "    </tr>\n",
              "    <tr>\n",
              "      <th>1</th>\n",
              "      <td>LP001003</td>\n",
              "      <td>Male</td>\n",
              "      <td>Yes</td>\n",
              "      <td>1</td>\n",
              "      <td>Graduate</td>\n",
              "      <td>No</td>\n",
              "      <td>4583</td>\n",
              "      <td>1508.0</td>\n",
              "      <td>128.0</td>\n",
              "      <td>360.0</td>\n",
              "      <td>1.0</td>\n",
              "      <td>Rural</td>\n",
              "      <td>N</td>\n",
              "    </tr>\n",
              "    <tr>\n",
              "      <th>2</th>\n",
              "      <td>LP001005</td>\n",
              "      <td>Male</td>\n",
              "      <td>Yes</td>\n",
              "      <td>0</td>\n",
              "      <td>Graduate</td>\n",
              "      <td>Yes</td>\n",
              "      <td>3000</td>\n",
              "      <td>0.0</td>\n",
              "      <td>66.0</td>\n",
              "      <td>360.0</td>\n",
              "      <td>1.0</td>\n",
              "      <td>Urban</td>\n",
              "      <td>Y</td>\n",
              "    </tr>\n",
              "    <tr>\n",
              "      <th>3</th>\n",
              "      <td>LP001006</td>\n",
              "      <td>Male</td>\n",
              "      <td>Yes</td>\n",
              "      <td>0</td>\n",
              "      <td>Not Graduate</td>\n",
              "      <td>No</td>\n",
              "      <td>2583</td>\n",
              "      <td>2358.0</td>\n",
              "      <td>120.0</td>\n",
              "      <td>360.0</td>\n",
              "      <td>1.0</td>\n",
              "      <td>Urban</td>\n",
              "      <td>Y</td>\n",
              "    </tr>\n",
              "    <tr>\n",
              "      <th>4</th>\n",
              "      <td>LP001008</td>\n",
              "      <td>Male</td>\n",
              "      <td>No</td>\n",
              "      <td>0</td>\n",
              "      <td>Graduate</td>\n",
              "      <td>No</td>\n",
              "      <td>6000</td>\n",
              "      <td>0.0</td>\n",
              "      <td>141.0</td>\n",
              "      <td>360.0</td>\n",
              "      <td>1.0</td>\n",
              "      <td>Urban</td>\n",
              "      <td>Y</td>\n",
              "    </tr>\n",
              "  </tbody>\n",
              "</table>\n",
              "</div>"
            ],
            "text/plain": [
              "    Loan_ID Gender Married  ... Credit_History Property_Area Loan_Status\n",
              "0  LP001002   Male      No  ...            1.0         Urban           Y\n",
              "1  LP001003   Male     Yes  ...            1.0         Rural           N\n",
              "2  LP001005   Male     Yes  ...            1.0         Urban           Y\n",
              "3  LP001006   Male     Yes  ...            1.0         Urban           Y\n",
              "4  LP001008   Male      No  ...            1.0         Urban           Y\n",
              "\n",
              "[5 rows x 13 columns]"
            ]
          },
          "metadata": {
            "tags": []
          },
          "execution_count": 68
        }
      ]
    },
    {
      "cell_type": "code",
      "metadata": {
        "colab": {
          "base_uri": "https://localhost:8080/"
        },
        "id": "qqkDtZLqlaNS",
        "outputId": "7868a8ca-f787-473f-a51e-8784534177ac"
      },
      "source": [
        "!pip install aif360"
      ],
      "execution_count": 3,
      "outputs": [
        {
          "output_type": "stream",
          "text": [
            "Collecting aif360\n",
            "\u001b[?25l  Downloading https://files.pythonhosted.org/packages/4c/71/0e19eaf2c513b2328b2b6188770bf1692437380c6e7a1eec3320354e4c87/aif360-0.4.0-py3-none-any.whl (175kB)\n",
            "\r\u001b[K     |█▉                              | 10kB 10.2MB/s eta 0:00:01\r\u001b[K     |███▊                            | 20kB 14.1MB/s eta 0:00:01\r\u001b[K     |█████▋                          | 30kB 17.7MB/s eta 0:00:01\r\u001b[K     |███████▌                        | 40kB 20.9MB/s eta 0:00:01\r\u001b[K     |█████████▍                      | 51kB 23.4MB/s eta 0:00:01\r\u001b[K     |███████████▎                    | 61kB 24.2MB/s eta 0:00:01\r\u001b[K     |█████████████                   | 71kB 24.3MB/s eta 0:00:01\r\u001b[K     |███████████████                 | 81kB 23.6MB/s eta 0:00:01\r\u001b[K     |████████████████▉               | 92kB 22.6MB/s eta 0:00:01\r\u001b[K     |██████████████████▊             | 102kB 23.6MB/s eta 0:00:01\r\u001b[K     |████████████████████▋           | 112kB 23.6MB/s eta 0:00:01\r\u001b[K     |██████████████████████▌         | 122kB 23.6MB/s eta 0:00:01\r\u001b[K     |████████████████████████▎       | 133kB 23.6MB/s eta 0:00:01\r\u001b[K     |██████████████████████████▏     | 143kB 23.6MB/s eta 0:00:01\r\u001b[K     |████████████████████████████    | 153kB 23.6MB/s eta 0:00:01\r\u001b[K     |██████████████████████████████  | 163kB 23.6MB/s eta 0:00:01\r\u001b[K     |███████████████████████████████▉| 174kB 23.6MB/s eta 0:00:01\r\u001b[K     |████████████████████████████████| 184kB 23.6MB/s \n",
            "\u001b[?25hRequirement already satisfied: scikit-learn>=0.22.1 in /usr/local/lib/python3.7/dist-packages (from aif360) (0.22.2.post1)\n",
            "Requirement already satisfied: pandas>=0.24.0 in /usr/local/lib/python3.7/dist-packages (from aif360) (1.1.5)\n",
            "Collecting tempeh\n",
            "  Downloading https://files.pythonhosted.org/packages/b7/1b/d016f8d2ac250b7df50ffb630c3f71371d35ac92deb80653b0e4d2f9c1a9/tempeh-0.1.12-py3-none-any.whl\n",
            "Requirement already satisfied: numpy>=1.16 in /usr/local/lib/python3.7/dist-packages (from aif360) (1.19.5)\n",
            "Requirement already satisfied: matplotlib in /usr/local/lib/python3.7/dist-packages (from aif360) (3.2.2)\n",
            "Requirement already satisfied: scipy<1.6.0,>=1.2.0 in /usr/local/lib/python3.7/dist-packages (from aif360) (1.4.1)\n",
            "Requirement already satisfied: joblib>=0.11 in /usr/local/lib/python3.7/dist-packages (from scikit-learn>=0.22.1->aif360) (1.0.1)\n",
            "Requirement already satisfied: pytz>=2017.2 in /usr/local/lib/python3.7/dist-packages (from pandas>=0.24.0->aif360) (2018.9)\n",
            "Requirement already satisfied: python-dateutil>=2.7.3 in /usr/local/lib/python3.7/dist-packages (from pandas>=0.24.0->aif360) (2.8.1)\n",
            "Collecting shap\n",
            "\u001b[?25l  Downloading https://files.pythonhosted.org/packages/b9/f4/c5b95cddae15be80f8e58b25edceca105aa83c0b8c86a1edad24a6af80d3/shap-0.39.0.tar.gz (356kB)\n",
            "\u001b[K     |████████████████████████████████| 358kB 17.4MB/s \n",
            "\u001b[?25hCollecting memory-profiler\n",
            "  Downloading https://files.pythonhosted.org/packages/8f/fd/d92b3295657f8837e0177e7b48b32d6651436f0293af42b76d134c3bb489/memory_profiler-0.58.0.tar.gz\n",
            "Requirement already satisfied: requests in /usr/local/lib/python3.7/dist-packages (from tempeh->aif360) (2.23.0)\n",
            "Requirement already satisfied: pytest in /usr/local/lib/python3.7/dist-packages (from tempeh->aif360) (3.6.4)\n",
            "Requirement already satisfied: kiwisolver>=1.0.1 in /usr/local/lib/python3.7/dist-packages (from matplotlib->aif360) (1.3.1)\n",
            "Requirement already satisfied: pyparsing!=2.0.4,!=2.1.2,!=2.1.6,>=2.0.1 in /usr/local/lib/python3.7/dist-packages (from matplotlib->aif360) (2.4.7)\n",
            "Requirement already satisfied: cycler>=0.10 in /usr/local/lib/python3.7/dist-packages (from matplotlib->aif360) (0.10.0)\n",
            "Requirement already satisfied: six>=1.5 in /usr/local/lib/python3.7/dist-packages (from python-dateutil>=2.7.3->pandas>=0.24.0->aif360) (1.15.0)\n",
            "Requirement already satisfied: tqdm>4.25.0 in /usr/local/lib/python3.7/dist-packages (from shap->tempeh->aif360) (4.41.1)\n",
            "Collecting slicer==0.0.7\n",
            "  Downloading https://files.pythonhosted.org/packages/78/c2/b3f55dfdb8af9812fdb9baf70cacf3b9e82e505b2bd4324d588888b81202/slicer-0.0.7-py3-none-any.whl\n",
            "Requirement already satisfied: numba in /usr/local/lib/python3.7/dist-packages (from shap->tempeh->aif360) (0.51.2)\n",
            "Requirement already satisfied: cloudpickle in /usr/local/lib/python3.7/dist-packages (from shap->tempeh->aif360) (1.3.0)\n",
            "Requirement already satisfied: psutil in /usr/local/lib/python3.7/dist-packages (from memory-profiler->tempeh->aif360) (5.4.8)\n",
            "Requirement already satisfied: urllib3!=1.25.0,!=1.25.1,<1.26,>=1.21.1 in /usr/local/lib/python3.7/dist-packages (from requests->tempeh->aif360) (1.24.3)\n",
            "Requirement already satisfied: certifi>=2017.4.17 in /usr/local/lib/python3.7/dist-packages (from requests->tempeh->aif360) (2021.5.30)\n",
            "Requirement already satisfied: chardet<4,>=3.0.2 in /usr/local/lib/python3.7/dist-packages (from requests->tempeh->aif360) (3.0.4)\n",
            "Requirement already satisfied: idna<3,>=2.5 in /usr/local/lib/python3.7/dist-packages (from requests->tempeh->aif360) (2.10)\n",
            "Requirement already satisfied: py>=1.5.0 in /usr/local/lib/python3.7/dist-packages (from pytest->tempeh->aif360) (1.10.0)\n",
            "Requirement already satisfied: more-itertools>=4.0.0 in /usr/local/lib/python3.7/dist-packages (from pytest->tempeh->aif360) (8.8.0)\n",
            "Requirement already satisfied: attrs>=17.4.0 in /usr/local/lib/python3.7/dist-packages (from pytest->tempeh->aif360) (21.2.0)\n",
            "Requirement already satisfied: pluggy<0.8,>=0.5 in /usr/local/lib/python3.7/dist-packages (from pytest->tempeh->aif360) (0.7.1)\n",
            "Requirement already satisfied: atomicwrites>=1.0 in /usr/local/lib/python3.7/dist-packages (from pytest->tempeh->aif360) (1.4.0)\n",
            "Requirement already satisfied: setuptools in /usr/local/lib/python3.7/dist-packages (from pytest->tempeh->aif360) (57.0.0)\n",
            "Requirement already satisfied: llvmlite<0.35,>=0.34.0.dev0 in /usr/local/lib/python3.7/dist-packages (from numba->shap->tempeh->aif360) (0.34.0)\n",
            "Building wheels for collected packages: shap, memory-profiler\n",
            "  Building wheel for shap (setup.py) ... \u001b[?25l\u001b[?25hdone\n",
            "  Created wheel for shap: filename=shap-0.39.0-cp37-cp37m-linux_x86_64.whl size=491627 sha256=7f094c3f3fd7a8bd813c7aa96d5342a0d26136cd89fcfce127826dab698c7e84\n",
            "  Stored in directory: /root/.cache/pip/wheels/15/27/f5/a8ab9da52fd159aae6477b5ede6eaaec69fd130fa0fa59f283\n",
            "  Building wheel for memory-profiler (setup.py) ... \u001b[?25l\u001b[?25hdone\n",
            "  Created wheel for memory-profiler: filename=memory_profiler-0.58.0-cp37-none-any.whl size=30188 sha256=f82df6f96014fb17d372c2d22979b8610261beb5447c9ebc85a8425d9b43fb2f\n",
            "  Stored in directory: /root/.cache/pip/wheels/02/e4/0b/aaab481fc5dd2a4ea59e78bc7231bb6aae7635ca7ee79f8ae5\n",
            "Successfully built shap memory-profiler\n",
            "Installing collected packages: slicer, shap, memory-profiler, tempeh, aif360\n",
            "Successfully installed aif360-0.4.0 memory-profiler-0.58.0 shap-0.39.0 slicer-0.0.7 tempeh-0.1.12\n"
          ],
          "name": "stdout"
        }
      ]
    },
    {
      "cell_type": "code",
      "metadata": {
        "colab": {
          "base_uri": "https://localhost:8080/"
        },
        "id": "ezZwIZaJEsM1",
        "outputId": "66faf721-b685-46f6-9b4d-277027bcbf09"
      },
      "source": [
        "# ModuleNotFoundError: No module named 'fairlearn'; required for aif360\n",
        "!pip install fairlearn"
      ],
      "execution_count": 4,
      "outputs": [
        {
          "output_type": "stream",
          "text": [
            "Collecting fairlearn\n",
            "\u001b[?25l  Downloading https://files.pythonhosted.org/packages/ea/a4/87a3ee19c036860a0b04dc5c9d51c86b0e147a379981f05fec0b34f8cdfc/fairlearn-0.6.2-py3-none-any.whl (24.6MB)\n",
            "\u001b[K     |████████████████████████████████| 24.6MB 118kB/s \n",
            "\u001b[?25hRequirement already satisfied: numpy>=1.17.2 in /usr/local/lib/python3.7/dist-packages (from fairlearn) (1.19.5)\n",
            "Requirement already satisfied: pandas>=0.25.1 in /usr/local/lib/python3.7/dist-packages (from fairlearn) (1.1.5)\n",
            "Requirement already satisfied: scikit-learn>=0.22.1 in /usr/local/lib/python3.7/dist-packages (from fairlearn) (0.22.2.post1)\n",
            "Requirement already satisfied: scipy>=1.4.1 in /usr/local/lib/python3.7/dist-packages (from fairlearn) (1.4.1)\n",
            "Requirement already satisfied: pytz>=2017.2 in /usr/local/lib/python3.7/dist-packages (from pandas>=0.25.1->fairlearn) (2018.9)\n",
            "Requirement already satisfied: python-dateutil>=2.7.3 in /usr/local/lib/python3.7/dist-packages (from pandas>=0.25.1->fairlearn) (2.8.1)\n",
            "Requirement already satisfied: joblib>=0.11 in /usr/local/lib/python3.7/dist-packages (from scikit-learn>=0.22.1->fairlearn) (1.0.1)\n",
            "Requirement already satisfied: six>=1.5 in /usr/local/lib/python3.7/dist-packages (from python-dateutil>=2.7.3->pandas>=0.25.1->fairlearn) (1.15.0)\n",
            "Installing collected packages: fairlearn\n",
            "Successfully installed fairlearn-0.6.2\n"
          ],
          "name": "stdout"
        }
      ]
    },
    {
      "cell_type": "code",
      "metadata": {
        "id": "BxFdS1n3jtGI"
      },
      "source": [
        "# First, read-in the data and check for null values\n",
        "import numpy as np\n",
        "import pandas as pd\n",
        "import aif360\n",
        "from aif360.algorithms.preprocessing import DisparateImpactRemover\n",
        "from sklearn.model_selection import train_test_split\n",
        "from sklearn.linear_model import LogisticRegression\n",
        "from sklearn.preprocessing import StandardScaler\n",
        "from sklearn import metrics\n",
        "pd.options.mode.chained_assignment = None  # default='warn', silencing Setting With Copy warning\n"
      ],
      "execution_count": 69,
      "outputs": []
    },
    {
      "cell_type": "code",
      "metadata": {
        "id": "TzLlQH6yjtGK",
        "colab": {
          "base_uri": "https://localhost:8080/"
        },
        "outputId": "a44f32c7-c1fb-4604-aede-8398e504a1f6"
      },
      "source": [
        "# See the different columns and check for null entries\n",
        "df.info()"
      ],
      "execution_count": 70,
      "outputs": [
        {
          "output_type": "stream",
          "text": [
            "<class 'pandas.core.frame.DataFrame'>\n",
            "RangeIndex: 981 entries, 0 to 980\n",
            "Data columns (total 13 columns):\n",
            " #   Column             Non-Null Count  Dtype  \n",
            "---  ------             --------------  -----  \n",
            " 0   Loan_ID            981 non-null    object \n",
            " 1   Gender             957 non-null    object \n",
            " 2   Married            978 non-null    object \n",
            " 3   Dependents         956 non-null    object \n",
            " 4   Education          981 non-null    object \n",
            " 5   Self_Employed      926 non-null    object \n",
            " 6   ApplicantIncome    981 non-null    int64  \n",
            " 7   CoapplicantIncome  981 non-null    float64\n",
            " 8   LoanAmount         954 non-null    float64\n",
            " 9   Loan_Amount_Term   961 non-null    float64\n",
            " 10  Credit_History     902 non-null    float64\n",
            " 11  Property_Area      981 non-null    object \n",
            " 12  Loan_Status        981 non-null    object \n",
            "dtypes: float64(4), int64(1), object(8)\n",
            "memory usage: 99.8+ KB\n"
          ],
          "name": "stdout"
        }
      ]
    },
    {
      "cell_type": "code",
      "metadata": {
        "id": "9Iq5SbT8FRyV"
      },
      "source": [
        "# Let’s take a look at the dataset’s features:\n",
        "# 1. Loan ID\n",
        "# 2. Gender (Male or Female)\n",
        "# 3. Married (Yes or No)\n",
        "# 4. Dependents (0, 1, 2, or 3+)\n",
        "# 5. Education (indicating whether or not the primary applicant has graduated from high school)\n",
        "# 6. Self Employed (Yes or No)\n",
        "# 7. Applicant Income\n",
        "# 8. Co-Applicant Income\n",
        "# 9. Loan Amount\n",
        "# 10. Loan Applicant Term\n",
        "# 11. Credit History (0 or 1, with 0 indicating good credit history)\n",
        "# 12. Property Area (Rural, Semiurban, or Urban)\n",
        "# 13. Loan Status (Y or N)"
      ],
      "execution_count": null,
      "outputs": []
    },
    {
      "cell_type": "code",
      "metadata": {
        "id": "yyH2wzApjtGL",
        "colab": {
          "base_uri": "https://localhost:8080/"
        },
        "outputId": "bdbb0611-1c84-4196-8958-e23b0f348010"
      },
      "source": [
        "# Remove rows with any (even if a single) null values\n",
        "df = df.dropna(how='any', axis = 0) \n",
        "df.info()"
      ],
      "execution_count": 71,
      "outputs": [
        {
          "output_type": "stream",
          "text": [
            "<class 'pandas.core.frame.DataFrame'>\n",
            "Int64Index: 769 entries, 1 to 980\n",
            "Data columns (total 13 columns):\n",
            " #   Column             Non-Null Count  Dtype  \n",
            "---  ------             --------------  -----  \n",
            " 0   Loan_ID            769 non-null    object \n",
            " 1   Gender             769 non-null    object \n",
            " 2   Married            769 non-null    object \n",
            " 3   Dependents         769 non-null    object \n",
            " 4   Education          769 non-null    object \n",
            " 5   Self_Employed      769 non-null    object \n",
            " 6   ApplicantIncome    769 non-null    int64  \n",
            " 7   CoapplicantIncome  769 non-null    float64\n",
            " 8   LoanAmount         769 non-null    float64\n",
            " 9   Loan_Amount_Term   769 non-null    float64\n",
            " 10  Credit_History     769 non-null    float64\n",
            " 11  Property_Area      769 non-null    object \n",
            " 12  Loan_Status        769 non-null    object \n",
            "dtypes: float64(4), int64(1), object(8)\n",
            "memory usage: 84.1+ KB\n"
          ],
          "name": "stdout"
        }
      ]
    },
    {
      "cell_type": "markdown",
      "metadata": {
        "id": "oOkqqmcLjtGL"
      },
      "source": [
        "The author then wants to check to see the breakdown of values for the outcome variable, `Loan_Status`."
      ]
    },
    {
      "cell_type": "code",
      "metadata": {
        "scrolled": true,
        "id": "fEBwQzp0jtGM",
        "colab": {
          "base_uri": "https://localhost:8080/"
        },
        "outputId": "58abfdf8-9a5b-46f7-a21a-23104386c3ca"
      },
      "source": [
        "target_counts = df['Loan_Status'].value_counts()\n",
        "target_counts\n",
        "\n",
        "#the data seems to be biased as more data points for Y "
      ],
      "execution_count": 72,
      "outputs": [
        {
          "output_type": "execute_result",
          "data": {
            "text/plain": [
              "Y    561\n",
              "N    208\n",
              "Name: Loan_Status, dtype: int64"
            ]
          },
          "metadata": {
            "tags": []
          },
          "execution_count": 72
        }
      ]
    },
    {
      "cell_type": "code",
      "metadata": {
        "id": "zPSgBya0jtGM",
        "colab": {
          "base_uri": "https://localhost:8080/",
          "height": 323
        },
        "outputId": "6f799d39-fbec-4661-c644-e371b85f4348"
      },
      "source": [
        "# Drop unnecessary column\n",
        "df = df.drop(['Loan_ID'], axis = 1)"
      ],
      "execution_count": 74,
      "outputs": [
        {
          "output_type": "error",
          "ename": "KeyError",
          "evalue": "ignored",
          "traceback": [
            "\u001b[0;31m---------------------------------------------------------------------------\u001b[0m",
            "\u001b[0;31mKeyError\u001b[0m                                  Traceback (most recent call last)",
            "\u001b[0;32m<ipython-input-74-4c17deb81166>\u001b[0m in \u001b[0;36m<module>\u001b[0;34m()\u001b[0m\n\u001b[1;32m      1\u001b[0m \u001b[0;31m# Drop unnecessary column\u001b[0m\u001b[0;34m\u001b[0m\u001b[0;34m\u001b[0m\u001b[0;34m\u001b[0m\u001b[0m\n\u001b[0;32m----> 2\u001b[0;31m \u001b[0mdf\u001b[0m \u001b[0;34m=\u001b[0m \u001b[0mdf\u001b[0m\u001b[0;34m.\u001b[0m\u001b[0mdrop\u001b[0m\u001b[0;34m(\u001b[0m\u001b[0;34m[\u001b[0m\u001b[0;34m'Loan_ID'\u001b[0m\u001b[0;34m]\u001b[0m\u001b[0;34m,\u001b[0m \u001b[0maxis\u001b[0m \u001b[0;34m=\u001b[0m \u001b[0;36m1\u001b[0m\u001b[0;34m)\u001b[0m\u001b[0;34m\u001b[0m\u001b[0;34m\u001b[0m\u001b[0m\n\u001b[0m",
            "\u001b[0;32m/usr/local/lib/python3.7/dist-packages/pandas/core/frame.py\u001b[0m in \u001b[0;36mdrop\u001b[0;34m(self, labels, axis, index, columns, level, inplace, errors)\u001b[0m\n\u001b[1;32m   4172\u001b[0m             \u001b[0mlevel\u001b[0m\u001b[0;34m=\u001b[0m\u001b[0mlevel\u001b[0m\u001b[0;34m,\u001b[0m\u001b[0;34m\u001b[0m\u001b[0;34m\u001b[0m\u001b[0m\n\u001b[1;32m   4173\u001b[0m             \u001b[0minplace\u001b[0m\u001b[0;34m=\u001b[0m\u001b[0minplace\u001b[0m\u001b[0;34m,\u001b[0m\u001b[0;34m\u001b[0m\u001b[0;34m\u001b[0m\u001b[0m\n\u001b[0;32m-> 4174\u001b[0;31m             \u001b[0merrors\u001b[0m\u001b[0;34m=\u001b[0m\u001b[0merrors\u001b[0m\u001b[0;34m,\u001b[0m\u001b[0;34m\u001b[0m\u001b[0;34m\u001b[0m\u001b[0m\n\u001b[0m\u001b[1;32m   4175\u001b[0m         )\n\u001b[1;32m   4176\u001b[0m \u001b[0;34m\u001b[0m\u001b[0m\n",
            "\u001b[0;32m/usr/local/lib/python3.7/dist-packages/pandas/core/generic.py\u001b[0m in \u001b[0;36mdrop\u001b[0;34m(self, labels, axis, index, columns, level, inplace, errors)\u001b[0m\n\u001b[1;32m   3887\u001b[0m         \u001b[0;32mfor\u001b[0m \u001b[0maxis\u001b[0m\u001b[0;34m,\u001b[0m \u001b[0mlabels\u001b[0m \u001b[0;32min\u001b[0m \u001b[0maxes\u001b[0m\u001b[0;34m.\u001b[0m\u001b[0mitems\u001b[0m\u001b[0;34m(\u001b[0m\u001b[0;34m)\u001b[0m\u001b[0;34m:\u001b[0m\u001b[0;34m\u001b[0m\u001b[0;34m\u001b[0m\u001b[0m\n\u001b[1;32m   3888\u001b[0m             \u001b[0;32mif\u001b[0m \u001b[0mlabels\u001b[0m \u001b[0;32mis\u001b[0m \u001b[0;32mnot\u001b[0m \u001b[0;32mNone\u001b[0m\u001b[0;34m:\u001b[0m\u001b[0;34m\u001b[0m\u001b[0;34m\u001b[0m\u001b[0m\n\u001b[0;32m-> 3889\u001b[0;31m                 \u001b[0mobj\u001b[0m \u001b[0;34m=\u001b[0m \u001b[0mobj\u001b[0m\u001b[0;34m.\u001b[0m\u001b[0m_drop_axis\u001b[0m\u001b[0;34m(\u001b[0m\u001b[0mlabels\u001b[0m\u001b[0;34m,\u001b[0m \u001b[0maxis\u001b[0m\u001b[0;34m,\u001b[0m \u001b[0mlevel\u001b[0m\u001b[0;34m=\u001b[0m\u001b[0mlevel\u001b[0m\u001b[0;34m,\u001b[0m \u001b[0merrors\u001b[0m\u001b[0;34m=\u001b[0m\u001b[0merrors\u001b[0m\u001b[0;34m)\u001b[0m\u001b[0;34m\u001b[0m\u001b[0;34m\u001b[0m\u001b[0m\n\u001b[0m\u001b[1;32m   3890\u001b[0m \u001b[0;34m\u001b[0m\u001b[0m\n\u001b[1;32m   3891\u001b[0m         \u001b[0;32mif\u001b[0m \u001b[0minplace\u001b[0m\u001b[0;34m:\u001b[0m\u001b[0;34m\u001b[0m\u001b[0;34m\u001b[0m\u001b[0m\n",
            "\u001b[0;32m/usr/local/lib/python3.7/dist-packages/pandas/core/generic.py\u001b[0m in \u001b[0;36m_drop_axis\u001b[0;34m(self, labels, axis, level, errors)\u001b[0m\n\u001b[1;32m   3921\u001b[0m                 \u001b[0mnew_axis\u001b[0m \u001b[0;34m=\u001b[0m \u001b[0maxis\u001b[0m\u001b[0;34m.\u001b[0m\u001b[0mdrop\u001b[0m\u001b[0;34m(\u001b[0m\u001b[0mlabels\u001b[0m\u001b[0;34m,\u001b[0m \u001b[0mlevel\u001b[0m\u001b[0;34m=\u001b[0m\u001b[0mlevel\u001b[0m\u001b[0;34m,\u001b[0m \u001b[0merrors\u001b[0m\u001b[0;34m=\u001b[0m\u001b[0merrors\u001b[0m\u001b[0;34m)\u001b[0m\u001b[0;34m\u001b[0m\u001b[0;34m\u001b[0m\u001b[0m\n\u001b[1;32m   3922\u001b[0m             \u001b[0;32melse\u001b[0m\u001b[0;34m:\u001b[0m\u001b[0;34m\u001b[0m\u001b[0;34m\u001b[0m\u001b[0m\n\u001b[0;32m-> 3923\u001b[0;31m                 \u001b[0mnew_axis\u001b[0m \u001b[0;34m=\u001b[0m \u001b[0maxis\u001b[0m\u001b[0;34m.\u001b[0m\u001b[0mdrop\u001b[0m\u001b[0;34m(\u001b[0m\u001b[0mlabels\u001b[0m\u001b[0;34m,\u001b[0m \u001b[0merrors\u001b[0m\u001b[0;34m=\u001b[0m\u001b[0merrors\u001b[0m\u001b[0;34m)\u001b[0m\u001b[0;34m\u001b[0m\u001b[0;34m\u001b[0m\u001b[0m\n\u001b[0m\u001b[1;32m   3924\u001b[0m             \u001b[0mresult\u001b[0m \u001b[0;34m=\u001b[0m \u001b[0mself\u001b[0m\u001b[0;34m.\u001b[0m\u001b[0mreindex\u001b[0m\u001b[0;34m(\u001b[0m\u001b[0;34m**\u001b[0m\u001b[0;34m{\u001b[0m\u001b[0maxis_name\u001b[0m\u001b[0;34m:\u001b[0m \u001b[0mnew_axis\u001b[0m\u001b[0;34m}\u001b[0m\u001b[0;34m)\u001b[0m\u001b[0;34m\u001b[0m\u001b[0;34m\u001b[0m\u001b[0m\n\u001b[1;32m   3925\u001b[0m \u001b[0;34m\u001b[0m\u001b[0m\n",
            "\u001b[0;32m/usr/local/lib/python3.7/dist-packages/pandas/core/indexes/base.py\u001b[0m in \u001b[0;36mdrop\u001b[0;34m(self, labels, errors)\u001b[0m\n\u001b[1;32m   5285\u001b[0m         \u001b[0;32mif\u001b[0m \u001b[0mmask\u001b[0m\u001b[0;34m.\u001b[0m\u001b[0many\u001b[0m\u001b[0;34m(\u001b[0m\u001b[0;34m)\u001b[0m\u001b[0;34m:\u001b[0m\u001b[0;34m\u001b[0m\u001b[0;34m\u001b[0m\u001b[0m\n\u001b[1;32m   5286\u001b[0m             \u001b[0;32mif\u001b[0m \u001b[0merrors\u001b[0m \u001b[0;34m!=\u001b[0m \u001b[0;34m\"ignore\"\u001b[0m\u001b[0;34m:\u001b[0m\u001b[0;34m\u001b[0m\u001b[0;34m\u001b[0m\u001b[0m\n\u001b[0;32m-> 5287\u001b[0;31m                 \u001b[0;32mraise\u001b[0m \u001b[0mKeyError\u001b[0m\u001b[0;34m(\u001b[0m\u001b[0;34mf\"{labels[mask]} not found in axis\"\u001b[0m\u001b[0;34m)\u001b[0m\u001b[0;34m\u001b[0m\u001b[0;34m\u001b[0m\u001b[0m\n\u001b[0m\u001b[1;32m   5288\u001b[0m             \u001b[0mindexer\u001b[0m \u001b[0;34m=\u001b[0m \u001b[0mindexer\u001b[0m\u001b[0;34m[\u001b[0m\u001b[0;34m~\u001b[0m\u001b[0mmask\u001b[0m\u001b[0;34m]\u001b[0m\u001b[0;34m\u001b[0m\u001b[0;34m\u001b[0m\u001b[0m\n\u001b[1;32m   5289\u001b[0m         \u001b[0;32mreturn\u001b[0m \u001b[0mself\u001b[0m\u001b[0;34m.\u001b[0m\u001b[0mdelete\u001b[0m\u001b[0;34m(\u001b[0m\u001b[0mindexer\u001b[0m\u001b[0;34m)\u001b[0m\u001b[0;34m\u001b[0m\u001b[0;34m\u001b[0m\u001b[0m\n",
            "\u001b[0;31mKeyError\u001b[0m: \"['Loan_ID'] not found in axis\""
          ]
        }
      ]
    },
    {
      "cell_type": "markdown",
      "metadata": {
        "id": "EpieN6edjtGN"
      },
      "source": [
        "### Encode categorical variables: a new way to do it"
      ]
    },
    {
      "cell_type": "code",
      "metadata": {
        "id": "nIactPBZjtGO",
        "colab": {
          "base_uri": "https://localhost:8080/",
          "height": 473
        },
        "outputId": "cde4756f-677a-459d-dff3-487f20a67d01"
      },
      "source": [
        "# Encode Male as 1, Female as 0\n",
        "df.loc[df.Gender == 'Male', 'Gender'] = 1\n",
        "df.loc[df.Gender == 'Female', 'Gender'] = 0\n",
        "\n",
        "# Encode Y Loan_Status as 1, N Loan_Status as 0\n",
        "df.loc[df.Loan_Status == 'Y', 'Loan_Status'] = 1\n",
        "df.loc[df.Loan_Status == 'N', 'Loan_Status'] = 0\n",
        "df"
      ],
      "execution_count": 75,
      "outputs": [
        {
          "output_type": "execute_result",
          "data": {
            "text/html": [
              "<div>\n",
              "<style scoped>\n",
              "    .dataframe tbody tr th:only-of-type {\n",
              "        vertical-align: middle;\n",
              "    }\n",
              "\n",
              "    .dataframe tbody tr th {\n",
              "        vertical-align: top;\n",
              "    }\n",
              "\n",
              "    .dataframe thead th {\n",
              "        text-align: right;\n",
              "    }\n",
              "</style>\n",
              "<table border=\"1\" class=\"dataframe\">\n",
              "  <thead>\n",
              "    <tr style=\"text-align: right;\">\n",
              "      <th></th>\n",
              "      <th>Gender</th>\n",
              "      <th>Married</th>\n",
              "      <th>Dependents</th>\n",
              "      <th>Education</th>\n",
              "      <th>Self_Employed</th>\n",
              "      <th>ApplicantIncome</th>\n",
              "      <th>CoapplicantIncome</th>\n",
              "      <th>LoanAmount</th>\n",
              "      <th>Loan_Amount_Term</th>\n",
              "      <th>Credit_History</th>\n",
              "      <th>Property_Area</th>\n",
              "      <th>Loan_Status</th>\n",
              "    </tr>\n",
              "  </thead>\n",
              "  <tbody>\n",
              "    <tr>\n",
              "      <th>1</th>\n",
              "      <td>1</td>\n",
              "      <td>Yes</td>\n",
              "      <td>1</td>\n",
              "      <td>Graduate</td>\n",
              "      <td>No</td>\n",
              "      <td>4583</td>\n",
              "      <td>1508.0</td>\n",
              "      <td>128.0</td>\n",
              "      <td>360.0</td>\n",
              "      <td>1.0</td>\n",
              "      <td>Rural</td>\n",
              "      <td>0</td>\n",
              "    </tr>\n",
              "    <tr>\n",
              "      <th>2</th>\n",
              "      <td>1</td>\n",
              "      <td>Yes</td>\n",
              "      <td>0</td>\n",
              "      <td>Graduate</td>\n",
              "      <td>Yes</td>\n",
              "      <td>3000</td>\n",
              "      <td>0.0</td>\n",
              "      <td>66.0</td>\n",
              "      <td>360.0</td>\n",
              "      <td>1.0</td>\n",
              "      <td>Urban</td>\n",
              "      <td>1</td>\n",
              "    </tr>\n",
              "    <tr>\n",
              "      <th>3</th>\n",
              "      <td>1</td>\n",
              "      <td>Yes</td>\n",
              "      <td>0</td>\n",
              "      <td>Not Graduate</td>\n",
              "      <td>No</td>\n",
              "      <td>2583</td>\n",
              "      <td>2358.0</td>\n",
              "      <td>120.0</td>\n",
              "      <td>360.0</td>\n",
              "      <td>1.0</td>\n",
              "      <td>Urban</td>\n",
              "      <td>1</td>\n",
              "    </tr>\n",
              "    <tr>\n",
              "      <th>4</th>\n",
              "      <td>1</td>\n",
              "      <td>No</td>\n",
              "      <td>0</td>\n",
              "      <td>Graduate</td>\n",
              "      <td>No</td>\n",
              "      <td>6000</td>\n",
              "      <td>0.0</td>\n",
              "      <td>141.0</td>\n",
              "      <td>360.0</td>\n",
              "      <td>1.0</td>\n",
              "      <td>Urban</td>\n",
              "      <td>1</td>\n",
              "    </tr>\n",
              "    <tr>\n",
              "      <th>5</th>\n",
              "      <td>1</td>\n",
              "      <td>Yes</td>\n",
              "      <td>2</td>\n",
              "      <td>Graduate</td>\n",
              "      <td>Yes</td>\n",
              "      <td>5417</td>\n",
              "      <td>4196.0</td>\n",
              "      <td>267.0</td>\n",
              "      <td>360.0</td>\n",
              "      <td>1.0</td>\n",
              "      <td>Urban</td>\n",
              "      <td>1</td>\n",
              "    </tr>\n",
              "    <tr>\n",
              "      <th>...</th>\n",
              "      <td>...</td>\n",
              "      <td>...</td>\n",
              "      <td>...</td>\n",
              "      <td>...</td>\n",
              "      <td>...</td>\n",
              "      <td>...</td>\n",
              "      <td>...</td>\n",
              "      <td>...</td>\n",
              "      <td>...</td>\n",
              "      <td>...</td>\n",
              "      <td>...</td>\n",
              "      <td>...</td>\n",
              "    </tr>\n",
              "    <tr>\n",
              "      <th>975</th>\n",
              "      <td>1</td>\n",
              "      <td>Yes</td>\n",
              "      <td>1</td>\n",
              "      <td>Graduate</td>\n",
              "      <td>No</td>\n",
              "      <td>2269</td>\n",
              "      <td>2167.0</td>\n",
              "      <td>99.0</td>\n",
              "      <td>360.0</td>\n",
              "      <td>1.0</td>\n",
              "      <td>Semiurban</td>\n",
              "      <td>1</td>\n",
              "    </tr>\n",
              "    <tr>\n",
              "      <th>976</th>\n",
              "      <td>1</td>\n",
              "      <td>Yes</td>\n",
              "      <td>3+</td>\n",
              "      <td>Not Graduate</td>\n",
              "      <td>Yes</td>\n",
              "      <td>4009</td>\n",
              "      <td>1777.0</td>\n",
              "      <td>113.0</td>\n",
              "      <td>360.0</td>\n",
              "      <td>1.0</td>\n",
              "      <td>Urban</td>\n",
              "      <td>1</td>\n",
              "    </tr>\n",
              "    <tr>\n",
              "      <th>977</th>\n",
              "      <td>1</td>\n",
              "      <td>Yes</td>\n",
              "      <td>0</td>\n",
              "      <td>Graduate</td>\n",
              "      <td>No</td>\n",
              "      <td>4158</td>\n",
              "      <td>709.0</td>\n",
              "      <td>115.0</td>\n",
              "      <td>360.0</td>\n",
              "      <td>1.0</td>\n",
              "      <td>Urban</td>\n",
              "      <td>1</td>\n",
              "    </tr>\n",
              "    <tr>\n",
              "      <th>979</th>\n",
              "      <td>1</td>\n",
              "      <td>Yes</td>\n",
              "      <td>0</td>\n",
              "      <td>Graduate</td>\n",
              "      <td>No</td>\n",
              "      <td>5000</td>\n",
              "      <td>2393.0</td>\n",
              "      <td>158.0</td>\n",
              "      <td>360.0</td>\n",
              "      <td>1.0</td>\n",
              "      <td>Rural</td>\n",
              "      <td>0</td>\n",
              "    </tr>\n",
              "    <tr>\n",
              "      <th>980</th>\n",
              "      <td>1</td>\n",
              "      <td>No</td>\n",
              "      <td>0</td>\n",
              "      <td>Graduate</td>\n",
              "      <td>Yes</td>\n",
              "      <td>9200</td>\n",
              "      <td>0.0</td>\n",
              "      <td>98.0</td>\n",
              "      <td>180.0</td>\n",
              "      <td>1.0</td>\n",
              "      <td>Rural</td>\n",
              "      <td>1</td>\n",
              "    </tr>\n",
              "  </tbody>\n",
              "</table>\n",
              "<p>769 rows × 12 columns</p>\n",
              "</div>"
            ],
            "text/plain": [
              "    Gender Married Dependents  ... Credit_History Property_Area  Loan_Status\n",
              "1        1     Yes          1  ...            1.0         Rural            0\n",
              "2        1     Yes          0  ...            1.0         Urban            1\n",
              "3        1     Yes          0  ...            1.0         Urban            1\n",
              "4        1      No          0  ...            1.0         Urban            1\n",
              "5        1     Yes          2  ...            1.0         Urban            1\n",
              "..     ...     ...        ...  ...            ...           ...          ...\n",
              "975      1     Yes          1  ...            1.0     Semiurban            1\n",
              "976      1     Yes         3+  ...            1.0         Urban            1\n",
              "977      1     Yes          0  ...            1.0         Urban            1\n",
              "979      1     Yes          0  ...            1.0         Rural            0\n",
              "980      1      No          0  ...            1.0         Rural            1\n",
              "\n",
              "[769 rows x 12 columns]"
            ]
          },
          "metadata": {
            "tags": []
          },
          "execution_count": 75
        }
      ]
    },
    {
      "cell_type": "code",
      "metadata": {
        "id": "g_FoTtiNjtGP",
        "colab": {
          "base_uri": "https://localhost:8080/"
        },
        "outputId": "5db781fa-3779-4a25-dca8-2be00fa5e197"
      },
      "source": [
        "y = df['Loan_Status']\n",
        "y"
      ],
      "execution_count": 76,
      "outputs": [
        {
          "output_type": "execute_result",
          "data": {
            "text/plain": [
              "1      0\n",
              "2      1\n",
              "3      1\n",
              "4      1\n",
              "5      1\n",
              "      ..\n",
              "975    1\n",
              "976    1\n",
              "977    1\n",
              "979    0\n",
              "980    1\n",
              "Name: Loan_Status, Length: 769, dtype: object"
            ]
          },
          "metadata": {
            "tags": []
          },
          "execution_count": 76
        }
      ]
    },
    {
      "cell_type": "code",
      "metadata": {
        "colab": {
          "base_uri": "https://localhost:8080/"
        },
        "id": "tY3k24hSGX4Y",
        "outputId": "2e7844fd-d25d-44c4-d6c7-23cf67dfb260"
      },
      "source": [
        "[col for col in df.columns if df[col].dtype in ['object']]"
      ],
      "execution_count": 77,
      "outputs": [
        {
          "output_type": "execute_result",
          "data": {
            "text/plain": [
              "['Gender',\n",
              " 'Married',\n",
              " 'Dependents',\n",
              " 'Education',\n",
              " 'Self_Employed',\n",
              " 'Property_Area',\n",
              " 'Loan_Status']"
            ]
          },
          "metadata": {
            "tags": []
          },
          "execution_count": 77
        }
      ]
    },
    {
      "cell_type": "code",
      "metadata": {
        "id": "fFJdf8RcjtGQ",
        "colab": {
          "base_uri": "https://localhost:8080/",
          "height": 456
        },
        "outputId": "0671ee15-3fc6-4066-db64-a83d9661c038"
      },
      "source": [
        "# Replace the categorical values with the numeric equivalents that we have above\n",
        "categoricalFeatures = ['Property_Area', 'Married', 'Dependents', 'Education', 'Self_Employed']\n",
        "\n",
        "# Iterate through the list of categorical features and one hot encode them.\n",
        "for feature in categoricalFeatures:\n",
        "    onehot = pd.get_dummies(df[feature], prefix=feature)\n",
        "    df = df.drop(feature, axis=1)\n",
        "    df = df.join(onehot)\n",
        "df"
      ],
      "execution_count": 78,
      "outputs": [
        {
          "output_type": "execute_result",
          "data": {
            "text/html": [
              "<div>\n",
              "<style scoped>\n",
              "    .dataframe tbody tr th:only-of-type {\n",
              "        vertical-align: middle;\n",
              "    }\n",
              "\n",
              "    .dataframe tbody tr th {\n",
              "        vertical-align: top;\n",
              "    }\n",
              "\n",
              "    .dataframe thead th {\n",
              "        text-align: right;\n",
              "    }\n",
              "</style>\n",
              "<table border=\"1\" class=\"dataframe\">\n",
              "  <thead>\n",
              "    <tr style=\"text-align: right;\">\n",
              "      <th></th>\n",
              "      <th>Gender</th>\n",
              "      <th>ApplicantIncome</th>\n",
              "      <th>CoapplicantIncome</th>\n",
              "      <th>LoanAmount</th>\n",
              "      <th>Loan_Amount_Term</th>\n",
              "      <th>Credit_History</th>\n",
              "      <th>Loan_Status</th>\n",
              "      <th>Property_Area_Rural</th>\n",
              "      <th>Property_Area_Semiurban</th>\n",
              "      <th>Property_Area_Urban</th>\n",
              "      <th>Married_No</th>\n",
              "      <th>Married_Yes</th>\n",
              "      <th>Dependents_0</th>\n",
              "      <th>Dependents_1</th>\n",
              "      <th>Dependents_2</th>\n",
              "      <th>Dependents_3+</th>\n",
              "      <th>Education_Graduate</th>\n",
              "      <th>Education_Not Graduate</th>\n",
              "      <th>Self_Employed_No</th>\n",
              "      <th>Self_Employed_Yes</th>\n",
              "    </tr>\n",
              "  </thead>\n",
              "  <tbody>\n",
              "    <tr>\n",
              "      <th>1</th>\n",
              "      <td>1</td>\n",
              "      <td>4583</td>\n",
              "      <td>1508.0</td>\n",
              "      <td>128.0</td>\n",
              "      <td>360.0</td>\n",
              "      <td>1.0</td>\n",
              "      <td>0</td>\n",
              "      <td>1</td>\n",
              "      <td>0</td>\n",
              "      <td>0</td>\n",
              "      <td>0</td>\n",
              "      <td>1</td>\n",
              "      <td>0</td>\n",
              "      <td>1</td>\n",
              "      <td>0</td>\n",
              "      <td>0</td>\n",
              "      <td>1</td>\n",
              "      <td>0</td>\n",
              "      <td>1</td>\n",
              "      <td>0</td>\n",
              "    </tr>\n",
              "    <tr>\n",
              "      <th>2</th>\n",
              "      <td>1</td>\n",
              "      <td>3000</td>\n",
              "      <td>0.0</td>\n",
              "      <td>66.0</td>\n",
              "      <td>360.0</td>\n",
              "      <td>1.0</td>\n",
              "      <td>1</td>\n",
              "      <td>0</td>\n",
              "      <td>0</td>\n",
              "      <td>1</td>\n",
              "      <td>0</td>\n",
              "      <td>1</td>\n",
              "      <td>1</td>\n",
              "      <td>0</td>\n",
              "      <td>0</td>\n",
              "      <td>0</td>\n",
              "      <td>1</td>\n",
              "      <td>0</td>\n",
              "      <td>0</td>\n",
              "      <td>1</td>\n",
              "    </tr>\n",
              "    <tr>\n",
              "      <th>3</th>\n",
              "      <td>1</td>\n",
              "      <td>2583</td>\n",
              "      <td>2358.0</td>\n",
              "      <td>120.0</td>\n",
              "      <td>360.0</td>\n",
              "      <td>1.0</td>\n",
              "      <td>1</td>\n",
              "      <td>0</td>\n",
              "      <td>0</td>\n",
              "      <td>1</td>\n",
              "      <td>0</td>\n",
              "      <td>1</td>\n",
              "      <td>1</td>\n",
              "      <td>0</td>\n",
              "      <td>0</td>\n",
              "      <td>0</td>\n",
              "      <td>0</td>\n",
              "      <td>1</td>\n",
              "      <td>1</td>\n",
              "      <td>0</td>\n",
              "    </tr>\n",
              "    <tr>\n",
              "      <th>4</th>\n",
              "      <td>1</td>\n",
              "      <td>6000</td>\n",
              "      <td>0.0</td>\n",
              "      <td>141.0</td>\n",
              "      <td>360.0</td>\n",
              "      <td>1.0</td>\n",
              "      <td>1</td>\n",
              "      <td>0</td>\n",
              "      <td>0</td>\n",
              "      <td>1</td>\n",
              "      <td>1</td>\n",
              "      <td>0</td>\n",
              "      <td>1</td>\n",
              "      <td>0</td>\n",
              "      <td>0</td>\n",
              "      <td>0</td>\n",
              "      <td>1</td>\n",
              "      <td>0</td>\n",
              "      <td>1</td>\n",
              "      <td>0</td>\n",
              "    </tr>\n",
              "    <tr>\n",
              "      <th>5</th>\n",
              "      <td>1</td>\n",
              "      <td>5417</td>\n",
              "      <td>4196.0</td>\n",
              "      <td>267.0</td>\n",
              "      <td>360.0</td>\n",
              "      <td>1.0</td>\n",
              "      <td>1</td>\n",
              "      <td>0</td>\n",
              "      <td>0</td>\n",
              "      <td>1</td>\n",
              "      <td>0</td>\n",
              "      <td>1</td>\n",
              "      <td>0</td>\n",
              "      <td>0</td>\n",
              "      <td>1</td>\n",
              "      <td>0</td>\n",
              "      <td>1</td>\n",
              "      <td>0</td>\n",
              "      <td>0</td>\n",
              "      <td>1</td>\n",
              "    </tr>\n",
              "    <tr>\n",
              "      <th>...</th>\n",
              "      <td>...</td>\n",
              "      <td>...</td>\n",
              "      <td>...</td>\n",
              "      <td>...</td>\n",
              "      <td>...</td>\n",
              "      <td>...</td>\n",
              "      <td>...</td>\n",
              "      <td>...</td>\n",
              "      <td>...</td>\n",
              "      <td>...</td>\n",
              "      <td>...</td>\n",
              "      <td>...</td>\n",
              "      <td>...</td>\n",
              "      <td>...</td>\n",
              "      <td>...</td>\n",
              "      <td>...</td>\n",
              "      <td>...</td>\n",
              "      <td>...</td>\n",
              "      <td>...</td>\n",
              "      <td>...</td>\n",
              "    </tr>\n",
              "    <tr>\n",
              "      <th>975</th>\n",
              "      <td>1</td>\n",
              "      <td>2269</td>\n",
              "      <td>2167.0</td>\n",
              "      <td>99.0</td>\n",
              "      <td>360.0</td>\n",
              "      <td>1.0</td>\n",
              "      <td>1</td>\n",
              "      <td>0</td>\n",
              "      <td>1</td>\n",
              "      <td>0</td>\n",
              "      <td>0</td>\n",
              "      <td>1</td>\n",
              "      <td>0</td>\n",
              "      <td>1</td>\n",
              "      <td>0</td>\n",
              "      <td>0</td>\n",
              "      <td>1</td>\n",
              "      <td>0</td>\n",
              "      <td>1</td>\n",
              "      <td>0</td>\n",
              "    </tr>\n",
              "    <tr>\n",
              "      <th>976</th>\n",
              "      <td>1</td>\n",
              "      <td>4009</td>\n",
              "      <td>1777.0</td>\n",
              "      <td>113.0</td>\n",
              "      <td>360.0</td>\n",
              "      <td>1.0</td>\n",
              "      <td>1</td>\n",
              "      <td>0</td>\n",
              "      <td>0</td>\n",
              "      <td>1</td>\n",
              "      <td>0</td>\n",
              "      <td>1</td>\n",
              "      <td>0</td>\n",
              "      <td>0</td>\n",
              "      <td>0</td>\n",
              "      <td>1</td>\n",
              "      <td>0</td>\n",
              "      <td>1</td>\n",
              "      <td>0</td>\n",
              "      <td>1</td>\n",
              "    </tr>\n",
              "    <tr>\n",
              "      <th>977</th>\n",
              "      <td>1</td>\n",
              "      <td>4158</td>\n",
              "      <td>709.0</td>\n",
              "      <td>115.0</td>\n",
              "      <td>360.0</td>\n",
              "      <td>1.0</td>\n",
              "      <td>1</td>\n",
              "      <td>0</td>\n",
              "      <td>0</td>\n",
              "      <td>1</td>\n",
              "      <td>0</td>\n",
              "      <td>1</td>\n",
              "      <td>1</td>\n",
              "      <td>0</td>\n",
              "      <td>0</td>\n",
              "      <td>0</td>\n",
              "      <td>1</td>\n",
              "      <td>0</td>\n",
              "      <td>1</td>\n",
              "      <td>0</td>\n",
              "    </tr>\n",
              "    <tr>\n",
              "      <th>979</th>\n",
              "      <td>1</td>\n",
              "      <td>5000</td>\n",
              "      <td>2393.0</td>\n",
              "      <td>158.0</td>\n",
              "      <td>360.0</td>\n",
              "      <td>1.0</td>\n",
              "      <td>0</td>\n",
              "      <td>1</td>\n",
              "      <td>0</td>\n",
              "      <td>0</td>\n",
              "      <td>0</td>\n",
              "      <td>1</td>\n",
              "      <td>1</td>\n",
              "      <td>0</td>\n",
              "      <td>0</td>\n",
              "      <td>0</td>\n",
              "      <td>1</td>\n",
              "      <td>0</td>\n",
              "      <td>1</td>\n",
              "      <td>0</td>\n",
              "    </tr>\n",
              "    <tr>\n",
              "      <th>980</th>\n",
              "      <td>1</td>\n",
              "      <td>9200</td>\n",
              "      <td>0.0</td>\n",
              "      <td>98.0</td>\n",
              "      <td>180.0</td>\n",
              "      <td>1.0</td>\n",
              "      <td>1</td>\n",
              "      <td>1</td>\n",
              "      <td>0</td>\n",
              "      <td>0</td>\n",
              "      <td>1</td>\n",
              "      <td>0</td>\n",
              "      <td>1</td>\n",
              "      <td>0</td>\n",
              "      <td>0</td>\n",
              "      <td>0</td>\n",
              "      <td>1</td>\n",
              "      <td>0</td>\n",
              "      <td>0</td>\n",
              "      <td>1</td>\n",
              "    </tr>\n",
              "  </tbody>\n",
              "</table>\n",
              "<p>769 rows × 20 columns</p>\n",
              "</div>"
            ],
            "text/plain": [
              "    Gender  ApplicantIncome  ...  Self_Employed_No  Self_Employed_Yes\n",
              "1        1             4583  ...                 1                  0\n",
              "2        1             3000  ...                 0                  1\n",
              "3        1             2583  ...                 1                  0\n",
              "4        1             6000  ...                 1                  0\n",
              "5        1             5417  ...                 0                  1\n",
              "..     ...              ...  ...               ...                ...\n",
              "975      1             2269  ...                 1                  0\n",
              "976      1             4009  ...                 0                  1\n",
              "977      1             4158  ...                 1                  0\n",
              "979      1             5000  ...                 1                  0\n",
              "980      1             9200  ...                 0                  1\n",
              "\n",
              "[769 rows x 20 columns]"
            ]
          },
          "metadata": {
            "tags": []
          },
          "execution_count": 78
        }
      ]
    },
    {
      "cell_type": "markdown",
      "metadata": {
        "id": "qz9EkSvDjtGQ"
      },
      "source": [
        "### Separate dataset by x and y"
      ]
    },
    {
      "cell_type": "code",
      "metadata": {
        "id": "JsvKv4QyjtGR"
      },
      "source": [
        "from sklearn.model_selection import train_test_split\n",
        "encoded_df = df.copy()\n",
        "x = df.drop(['Loan_Status'], axis = 1)"
      ],
      "execution_count": 79,
      "outputs": []
    },
    {
      "cell_type": "markdown",
      "metadata": {
        "id": "nG1SqtiHjtGR"
      },
      "source": [
        "### Create Test and Train splits"
      ]
    },
    {
      "cell_type": "code",
      "metadata": {
        "id": "cXyTADiRjtGS"
      },
      "source": [
        "from sklearn.preprocessing import StandardScaler\n",
        "scaler = StandardScaler()\n",
        "data_std = scaler.fit_transform(x)\n",
        "\n",
        "# converting to dataframe\n",
        "data_std = pd.DataFrame(data_std, index=x.index, columns=x.columns)\n",
        "\n",
        "# We will follow an 80-20 split pattern for our training and test data, respectively\n",
        "x_train,x_test,y_train,y_test = train_test_split(x, y, test_size=0.2, random_state = 0)"
      ],
      "execution_count": 80,
      "outputs": []
    },
    {
      "cell_type": "code",
      "metadata": {
        "colab": {
          "base_uri": "https://localhost:8080/",
          "height": 241
        },
        "id": "8dTC2-FGIsJB",
        "outputId": "fd07277e-0b91-4188-a00a-a2dc326c0a13"
      },
      "source": [
        "x.head()"
      ],
      "execution_count": 81,
      "outputs": [
        {
          "output_type": "execute_result",
          "data": {
            "text/html": [
              "<div>\n",
              "<style scoped>\n",
              "    .dataframe tbody tr th:only-of-type {\n",
              "        vertical-align: middle;\n",
              "    }\n",
              "\n",
              "    .dataframe tbody tr th {\n",
              "        vertical-align: top;\n",
              "    }\n",
              "\n",
              "    .dataframe thead th {\n",
              "        text-align: right;\n",
              "    }\n",
              "</style>\n",
              "<table border=\"1\" class=\"dataframe\">\n",
              "  <thead>\n",
              "    <tr style=\"text-align: right;\">\n",
              "      <th></th>\n",
              "      <th>Gender</th>\n",
              "      <th>ApplicantIncome</th>\n",
              "      <th>CoapplicantIncome</th>\n",
              "      <th>LoanAmount</th>\n",
              "      <th>Loan_Amount_Term</th>\n",
              "      <th>Credit_History</th>\n",
              "      <th>Property_Area_Rural</th>\n",
              "      <th>Property_Area_Semiurban</th>\n",
              "      <th>Property_Area_Urban</th>\n",
              "      <th>Married_No</th>\n",
              "      <th>Married_Yes</th>\n",
              "      <th>Dependents_0</th>\n",
              "      <th>Dependents_1</th>\n",
              "      <th>Dependents_2</th>\n",
              "      <th>Dependents_3+</th>\n",
              "      <th>Education_Graduate</th>\n",
              "      <th>Education_Not Graduate</th>\n",
              "      <th>Self_Employed_No</th>\n",
              "      <th>Self_Employed_Yes</th>\n",
              "    </tr>\n",
              "  </thead>\n",
              "  <tbody>\n",
              "    <tr>\n",
              "      <th>1</th>\n",
              "      <td>1</td>\n",
              "      <td>4583</td>\n",
              "      <td>1508.0</td>\n",
              "      <td>128.0</td>\n",
              "      <td>360.0</td>\n",
              "      <td>1.0</td>\n",
              "      <td>1</td>\n",
              "      <td>0</td>\n",
              "      <td>0</td>\n",
              "      <td>0</td>\n",
              "      <td>1</td>\n",
              "      <td>0</td>\n",
              "      <td>1</td>\n",
              "      <td>0</td>\n",
              "      <td>0</td>\n",
              "      <td>1</td>\n",
              "      <td>0</td>\n",
              "      <td>1</td>\n",
              "      <td>0</td>\n",
              "    </tr>\n",
              "    <tr>\n",
              "      <th>2</th>\n",
              "      <td>1</td>\n",
              "      <td>3000</td>\n",
              "      <td>0.0</td>\n",
              "      <td>66.0</td>\n",
              "      <td>360.0</td>\n",
              "      <td>1.0</td>\n",
              "      <td>0</td>\n",
              "      <td>0</td>\n",
              "      <td>1</td>\n",
              "      <td>0</td>\n",
              "      <td>1</td>\n",
              "      <td>1</td>\n",
              "      <td>0</td>\n",
              "      <td>0</td>\n",
              "      <td>0</td>\n",
              "      <td>1</td>\n",
              "      <td>0</td>\n",
              "      <td>0</td>\n",
              "      <td>1</td>\n",
              "    </tr>\n",
              "    <tr>\n",
              "      <th>3</th>\n",
              "      <td>1</td>\n",
              "      <td>2583</td>\n",
              "      <td>2358.0</td>\n",
              "      <td>120.0</td>\n",
              "      <td>360.0</td>\n",
              "      <td>1.0</td>\n",
              "      <td>0</td>\n",
              "      <td>0</td>\n",
              "      <td>1</td>\n",
              "      <td>0</td>\n",
              "      <td>1</td>\n",
              "      <td>1</td>\n",
              "      <td>0</td>\n",
              "      <td>0</td>\n",
              "      <td>0</td>\n",
              "      <td>0</td>\n",
              "      <td>1</td>\n",
              "      <td>1</td>\n",
              "      <td>0</td>\n",
              "    </tr>\n",
              "    <tr>\n",
              "      <th>4</th>\n",
              "      <td>1</td>\n",
              "      <td>6000</td>\n",
              "      <td>0.0</td>\n",
              "      <td>141.0</td>\n",
              "      <td>360.0</td>\n",
              "      <td>1.0</td>\n",
              "      <td>0</td>\n",
              "      <td>0</td>\n",
              "      <td>1</td>\n",
              "      <td>1</td>\n",
              "      <td>0</td>\n",
              "      <td>1</td>\n",
              "      <td>0</td>\n",
              "      <td>0</td>\n",
              "      <td>0</td>\n",
              "      <td>1</td>\n",
              "      <td>0</td>\n",
              "      <td>1</td>\n",
              "      <td>0</td>\n",
              "    </tr>\n",
              "    <tr>\n",
              "      <th>5</th>\n",
              "      <td>1</td>\n",
              "      <td>5417</td>\n",
              "      <td>4196.0</td>\n",
              "      <td>267.0</td>\n",
              "      <td>360.0</td>\n",
              "      <td>1.0</td>\n",
              "      <td>0</td>\n",
              "      <td>0</td>\n",
              "      <td>1</td>\n",
              "      <td>0</td>\n",
              "      <td>1</td>\n",
              "      <td>0</td>\n",
              "      <td>0</td>\n",
              "      <td>1</td>\n",
              "      <td>0</td>\n",
              "      <td>1</td>\n",
              "      <td>0</td>\n",
              "      <td>0</td>\n",
              "      <td>1</td>\n",
              "    </tr>\n",
              "  </tbody>\n",
              "</table>\n",
              "</div>"
            ],
            "text/plain": [
              "  Gender  ApplicantIncome  ...  Self_Employed_No  Self_Employed_Yes\n",
              "1      1             4583  ...                 1                  0\n",
              "2      1             3000  ...                 0                  1\n",
              "3      1             2583  ...                 1                  0\n",
              "4      1             6000  ...                 1                  0\n",
              "5      1             5417  ...                 0                  1\n",
              "\n",
              "[5 rows x 19 columns]"
            ]
          },
          "metadata": {
            "tags": []
          },
          "execution_count": 81
        }
      ]
    },
    {
      "cell_type": "code",
      "metadata": {
        "colab": {
          "base_uri": "https://localhost:8080/",
          "height": 241
        },
        "id": "Dtmk9i_9Iuxo",
        "outputId": "fe59dc05-4769-4798-f861-50c1df754f5b"
      },
      "source": [
        "data_std.head()"
      ],
      "execution_count": 82,
      "outputs": [
        {
          "output_type": "execute_result",
          "data": {
            "text/html": [
              "<div>\n",
              "<style scoped>\n",
              "    .dataframe tbody tr th:only-of-type {\n",
              "        vertical-align: middle;\n",
              "    }\n",
              "\n",
              "    .dataframe tbody tr th {\n",
              "        vertical-align: top;\n",
              "    }\n",
              "\n",
              "    .dataframe thead th {\n",
              "        text-align: right;\n",
              "    }\n",
              "</style>\n",
              "<table border=\"1\" class=\"dataframe\">\n",
              "  <thead>\n",
              "    <tr style=\"text-align: right;\">\n",
              "      <th></th>\n",
              "      <th>Gender</th>\n",
              "      <th>ApplicantIncome</th>\n",
              "      <th>CoapplicantIncome</th>\n",
              "      <th>LoanAmount</th>\n",
              "      <th>Loan_Amount_Term</th>\n",
              "      <th>Credit_History</th>\n",
              "      <th>Property_Area_Rural</th>\n",
              "      <th>Property_Area_Semiurban</th>\n",
              "      <th>Property_Area_Urban</th>\n",
              "      <th>Married_No</th>\n",
              "      <th>Married_Yes</th>\n",
              "      <th>Dependents_0</th>\n",
              "      <th>Dependents_1</th>\n",
              "      <th>Dependents_2</th>\n",
              "      <th>Dependents_3+</th>\n",
              "      <th>Education_Graduate</th>\n",
              "      <th>Education_Not Graduate</th>\n",
              "      <th>Self_Employed_No</th>\n",
              "      <th>Self_Employed_Yes</th>\n",
              "    </tr>\n",
              "  </thead>\n",
              "  <tbody>\n",
              "    <tr>\n",
              "      <th>1</th>\n",
              "      <td>0.48205</td>\n",
              "      <td>-0.094784</td>\n",
              "      <td>-0.021068</td>\n",
              "      <td>-0.187346</td>\n",
              "      <td>0.271331</td>\n",
              "      <td>0.421476</td>\n",
              "      <td>1.540392</td>\n",
              "      <td>-0.752457</td>\n",
              "      <td>-0.720946</td>\n",
              "      <td>-0.737683</td>\n",
              "      <td>0.737683</td>\n",
              "      <td>-1.159531</td>\n",
              "      <td>2.302885</td>\n",
              "      <td>-0.461447</td>\n",
              "      <td>-0.318934</td>\n",
              "      <td>0.516610</td>\n",
              "      <td>-0.516610</td>\n",
              "      <td>0.382166</td>\n",
              "      <td>-0.382166</td>\n",
              "    </tr>\n",
              "    <tr>\n",
              "      <th>2</th>\n",
              "      <td>0.48205</td>\n",
              "      <td>-0.390107</td>\n",
              "      <td>-0.617811</td>\n",
              "      <td>-1.032088</td>\n",
              "      <td>0.271331</td>\n",
              "      <td>0.421476</td>\n",
              "      <td>-0.649185</td>\n",
              "      <td>-0.752457</td>\n",
              "      <td>1.387067</td>\n",
              "      <td>-0.737683</td>\n",
              "      <td>0.737683</td>\n",
              "      <td>0.862418</td>\n",
              "      <td>-0.434238</td>\n",
              "      <td>-0.461447</td>\n",
              "      <td>-0.318934</td>\n",
              "      <td>0.516610</td>\n",
              "      <td>-0.516610</td>\n",
              "      <td>-2.616666</td>\n",
              "      <td>2.616666</td>\n",
              "    </tr>\n",
              "    <tr>\n",
              "      <th>3</th>\n",
              "      <td>0.48205</td>\n",
              "      <td>-0.467902</td>\n",
              "      <td>0.315293</td>\n",
              "      <td>-0.296345</td>\n",
              "      <td>0.271331</td>\n",
              "      <td>0.421476</td>\n",
              "      <td>-0.649185</td>\n",
              "      <td>-0.752457</td>\n",
              "      <td>1.387067</td>\n",
              "      <td>-0.737683</td>\n",
              "      <td>0.737683</td>\n",
              "      <td>0.862418</td>\n",
              "      <td>-0.434238</td>\n",
              "      <td>-0.461447</td>\n",
              "      <td>-0.318934</td>\n",
              "      <td>-1.935695</td>\n",
              "      <td>1.935695</td>\n",
              "      <td>0.382166</td>\n",
              "      <td>-0.382166</td>\n",
              "    </tr>\n",
              "    <tr>\n",
              "      <th>4</th>\n",
              "      <td>0.48205</td>\n",
              "      <td>0.169571</td>\n",
              "      <td>-0.617811</td>\n",
              "      <td>-0.010223</td>\n",
              "      <td>0.271331</td>\n",
              "      <td>0.421476</td>\n",
              "      <td>-0.649185</td>\n",
              "      <td>-0.752457</td>\n",
              "      <td>1.387067</td>\n",
              "      <td>1.355595</td>\n",
              "      <td>-1.355595</td>\n",
              "      <td>0.862418</td>\n",
              "      <td>-0.434238</td>\n",
              "      <td>-0.461447</td>\n",
              "      <td>-0.318934</td>\n",
              "      <td>0.516610</td>\n",
              "      <td>-0.516610</td>\n",
              "      <td>0.382166</td>\n",
              "      <td>-0.382166</td>\n",
              "    </tr>\n",
              "    <tr>\n",
              "      <th>5</th>\n",
              "      <td>0.48205</td>\n",
              "      <td>0.060807</td>\n",
              "      <td>1.042623</td>\n",
              "      <td>1.706510</td>\n",
              "      <td>0.271331</td>\n",
              "      <td>0.421476</td>\n",
              "      <td>-0.649185</td>\n",
              "      <td>-0.752457</td>\n",
              "      <td>1.387067</td>\n",
              "      <td>-0.737683</td>\n",
              "      <td>0.737683</td>\n",
              "      <td>-1.159531</td>\n",
              "      <td>-0.434238</td>\n",
              "      <td>2.167094</td>\n",
              "      <td>-0.318934</td>\n",
              "      <td>0.516610</td>\n",
              "      <td>-0.516610</td>\n",
              "      <td>-2.616666</td>\n",
              "      <td>2.616666</td>\n",
              "    </tr>\n",
              "  </tbody>\n",
              "</table>\n",
              "</div>"
            ],
            "text/plain": [
              "    Gender  ApplicantIncome  ...  Self_Employed_No  Self_Employed_Yes\n",
              "1  0.48205        -0.094784  ...          0.382166          -0.382166\n",
              "2  0.48205        -0.390107  ...         -2.616666           2.616666\n",
              "3  0.48205        -0.467902  ...          0.382166          -0.382166\n",
              "4  0.48205         0.169571  ...          0.382166          -0.382166\n",
              "5  0.48205         0.060807  ...         -2.616666           2.616666\n",
              "\n",
              "[5 rows x 19 columns]"
            ]
          },
          "metadata": {
            "tags": []
          },
          "execution_count": 82
        }
      ]
    },
    {
      "cell_type": "markdown",
      "metadata": {
        "id": "vBNiR5ZnjtGS"
      },
      "source": [
        "### Calculating actual disparate impact on testing values from original dataset\n",
        "Disparate Impact is defined as the ratio of favorable outcomes for the unpriviliged group divided by the ratio of favorable outcomes for the priviliged group.\n",
        "The acceptable threshold is between .8 and 1.25, with .8 favoring the priviliged group, and 1.25 favoring the unpriviliged group."
      ]
    },
    {
      "cell_type": "code",
      "metadata": {
        "colab": {
          "base_uri": "https://localhost:8080/"
        },
        "id": "uH7khI5PKqEU",
        "outputId": "55e1dbf1-439f-4c94-f62e-2c0e5bafce07"
      },
      "source": [
        "y_test.head()"
      ],
      "execution_count": 83,
      "outputs": [
        {
          "output_type": "execute_result",
          "data": {
            "text/plain": [
              "840    1\n",
              "159    1\n",
              "148    0\n",
              "17     0\n",
              "808    0\n",
              "Name: Loan_Status, dtype: object"
            ]
          },
          "metadata": {
            "tags": []
          },
          "execution_count": 83
        }
      ]
    },
    {
      "cell_type": "code",
      "metadata": {
        "colab": {
          "base_uri": "https://localhost:8080/"
        },
        "id": "LHl503GJVu4p",
        "outputId": "899e946d-ade8-4f74-fd66-18b225dd6f1a"
      },
      "source": [
        "type(y_test)"
      ],
      "execution_count": 85,
      "outputs": [
        {
          "output_type": "execute_result",
          "data": {
            "text/plain": [
              "pandas.core.series.Series"
            ]
          },
          "metadata": {
            "tags": []
          },
          "execution_count": 85
        }
      ]
    },
    {
      "cell_type": "code",
      "metadata": {
        "scrolled": true,
        "id": "GE9tV9SEjtGS",
        "colab": {
          "base_uri": "https://localhost:8080/"
        },
        "outputId": "39750be3-4e24-465a-934f-6d693427dc77"
      },
      "source": [
        "actual_test = x_test.copy()\n",
        "actual_test['Loan_Status_Actual'] = y_test\n",
        "print(actual_test.shape)\n",
        "print(x_test.shape)\n"
      ],
      "execution_count": 99,
      "outputs": [
        {
          "output_type": "stream",
          "text": [
            "(154, 20)\n",
            "(154, 19)\n"
          ],
          "name": "stdout"
        }
      ]
    },
    {
      "cell_type": "code",
      "metadata": {
        "colab": {
          "base_uri": "https://localhost:8080/"
        },
        "id": "f5NzfiICLlvr",
        "outputId": "d20af216-2ccd-48de-9258-ca6e574afd28"
      },
      "source": [
        "actual_test.info()"
      ],
      "execution_count": 87,
      "outputs": [
        {
          "output_type": "stream",
          "text": [
            "<class 'pandas.core.frame.DataFrame'>\n",
            "Int64Index: 154 entries, 840 to 618\n",
            "Data columns (total 20 columns):\n",
            " #   Column                   Non-Null Count  Dtype  \n",
            "---  ------                   --------------  -----  \n",
            " 0   Gender                   154 non-null    object \n",
            " 1   ApplicantIncome          154 non-null    int64  \n",
            " 2   CoapplicantIncome        154 non-null    float64\n",
            " 3   LoanAmount               154 non-null    float64\n",
            " 4   Loan_Amount_Term         154 non-null    float64\n",
            " 5   Credit_History           154 non-null    float64\n",
            " 6   Property_Area_Rural      154 non-null    uint8  \n",
            " 7   Property_Area_Semiurban  154 non-null    uint8  \n",
            " 8   Property_Area_Urban      154 non-null    uint8  \n",
            " 9   Married_No               154 non-null    uint8  \n",
            " 10  Married_Yes              154 non-null    uint8  \n",
            " 11  Dependents_0             154 non-null    uint8  \n",
            " 12  Dependents_1             154 non-null    uint8  \n",
            " 13  Dependents_2             154 non-null    uint8  \n",
            " 14  Dependents_3+            154 non-null    uint8  \n",
            " 15  Education_Graduate       154 non-null    uint8  \n",
            " 16  Education_Not Graduate   154 non-null    uint8  \n",
            " 17  Self_Employed_No         154 non-null    uint8  \n",
            " 18  Self_Employed_Yes        154 non-null    uint8  \n",
            " 19  Loan_Status_Actual       154 non-null    object \n",
            "dtypes: float64(4), int64(1), object(2), uint8(13)\n",
            "memory usage: 11.6+ KB\n"
          ],
          "name": "stdout"
        }
      ]
    },
    {
      "cell_type": "code",
      "metadata": {
        "colab": {
          "base_uri": "https://localhost:8080/"
        },
        "id": "dT30AS5QL2tD",
        "outputId": "9ab7a820-cb5b-4999-8976-1e1317925efd"
      },
      "source": [
        "actual_test['Gender'].unique()"
      ],
      "execution_count": 88,
      "outputs": [
        {
          "output_type": "execute_result",
          "data": {
            "text/plain": [
              "array([1, 0], dtype=object)"
            ]
          },
          "metadata": {
            "tags": []
          },
          "execution_count": 88
        }
      ]
    },
    {
      "cell_type": "code",
      "metadata": {
        "id": "TQUSRjjEjtGS",
        "colab": {
          "base_uri": "https://localhost:8080/"
        },
        "outputId": "7b15004d-8914-4ed8-eecf-32c823387a83"
      },
      "source": [
        "# Priviliged group: Males (1)\n",
        "# Unpriviliged group: Females (0)\n",
        "# privilege\n",
        "male_df = actual_test[actual_test['Gender'].astype('int') == 1]\n",
        "num_of_priviliged = male_df.shape[0]\n",
        "print(num_of_priviliged)\n",
        "\n",
        "# unprivilege\n",
        "female_df = actual_test[actual_test['Gender'].astype('int') == 0]\n",
        "num_of_unpriviliged = female_df.shape[0]\n",
        "print(num_of_unpriviliged)"
      ],
      "execution_count": 92,
      "outputs": [
        {
          "output_type": "stream",
          "text": [
            "119\n",
            "35\n"
          ],
          "name": "stdout"
        }
      ]
    },
    {
      "cell_type": "code",
      "metadata": {
        "id": "amE3cx94jtGT",
        "colab": {
          "base_uri": "https://localhost:8080/"
        },
        "outputId": "dee5e19c-be8b-4848-d758-8144cdba82ba"
      },
      "source": [
        "unpriviliged_outcomes = female_df[female_df['Loan_Status_Actual'] == 1].shape[0]\n",
        "unpriviliged_ratio = unpriviliged_outcomes/num_of_unpriviliged\n",
        "unpriviliged_ratio"
      ],
      "execution_count": 93,
      "outputs": [
        {
          "output_type": "execute_result",
          "data": {
            "text/plain": [
              "0.6"
            ]
          },
          "metadata": {
            "tags": []
          },
          "execution_count": 93
        }
      ]
    },
    {
      "cell_type": "code",
      "metadata": {
        "id": "7ne_jn74jtGT",
        "colab": {
          "base_uri": "https://localhost:8080/"
        },
        "outputId": "7c9fda1c-c665-4e08-f474-f77e1df81600"
      },
      "source": [
        "priviliged_outcomes = male_df[male_df['Loan_Status_Actual'] == 1].shape[0]\n",
        "priviliged_ratio = priviliged_outcomes/num_of_priviliged\n",
        "priviliged_ratio"
      ],
      "execution_count": 39,
      "outputs": [
        {
          "output_type": "execute_result",
          "data": {
            "text/plain": [
              "0.7226890756302521"
            ]
          },
          "metadata": {
            "tags": []
          },
          "execution_count": 39
        }
      ]
    },
    {
      "cell_type": "code",
      "metadata": {
        "id": "Y4I6yvGCjtGU",
        "colab": {
          "base_uri": "https://localhost:8080/"
        },
        "outputId": "63328e5b-d10e-479b-b0ab-2ed199856906"
      },
      "source": [
        "# Calculating disparate impact\n",
        "disparate_impact = unpriviliged_ratio / priviliged_ratio\n",
        "print(\"Disparate Impact, Sex vs. Predicted Loan Status: \" + str(disparate_impact))"
      ],
      "execution_count": 40,
      "outputs": [
        {
          "output_type": "stream",
          "text": [
            "Disparate Impact, Sex vs. Predicted Loan Status: 0.8302325581395349\n"
          ],
          "name": "stdout"
        }
      ]
    },
    {
      "cell_type": "markdown",
      "metadata": {
        "id": "ad0tkr4PjtGU"
      },
      "source": [
        "### Training a model on the original dataset"
      ]
    },
    {
      "cell_type": "code",
      "metadata": {
        "id": "v2M67nQHjtGU"
      },
      "source": [
        "from sklearn.linear_model import LogisticRegression\n",
        "# Liblinear is a solver that is very fast for small datasets, like ours\n",
        "model = LogisticRegression(solver='liblinear', class_weight='balanced')"
      ],
      "execution_count": 94,
      "outputs": []
    },
    {
      "cell_type": "code",
      "metadata": {
        "scrolled": true,
        "id": "vUGMZMstjtGV",
        "colab": {
          "base_uri": "https://localhost:8080/"
        },
        "outputId": "201a45a0-a244-42b0-d471-96f5c3c40491"
      },
      "source": [
        "# y is of type object, so sklearn cannot recognize its type. Add the line y=y.astype('int')\n",
        "y_train=y_train.astype('int')\n",
        "model.fit(x_train, y_train)"
      ],
      "execution_count": 95,
      "outputs": [
        {
          "output_type": "execute_result",
          "data": {
            "text/plain": [
              "LogisticRegression(C=1.0, class_weight='balanced', dual=False,\n",
              "                   fit_intercept=True, intercept_scaling=1, l1_ratio=None,\n",
              "                   max_iter=100, multi_class='auto', n_jobs=None, penalty='l2',\n",
              "                   random_state=None, solver='liblinear', tol=0.0001, verbose=0,\n",
              "                   warm_start=False)"
            ]
          },
          "metadata": {
            "tags": []
          },
          "execution_count": 95
        }
      ]
    },
    {
      "cell_type": "markdown",
      "metadata": {
        "id": "8orHbWn4jtGV"
      },
      "source": [
        "### Evaluating performance"
      ]
    },
    {
      "cell_type": "code",
      "metadata": {
        "id": "2f3gX7LXjtGV",
        "colab": {
          "base_uri": "https://localhost:8080/",
          "height": 204
        },
        "outputId": "cc7f7e8c-d883-4cd8-d27c-beac78afa2fc"
      },
      "source": [
        "# Let's see how well it predicted with a couple values \n",
        "y_pred = pd.Series(model.predict(x_test))\n",
        "y_test = y_test.reset_index(drop=True)\n",
        "z = pd.concat([y_test, y_pred], axis=1)\n",
        "z.columns = ['True', 'Prediction']\n",
        "z.head()\n",
        "# Predicts 4/5 correctly in this sample"
      ],
      "execution_count": 96,
      "outputs": [
        {
          "output_type": "execute_result",
          "data": {
            "text/html": [
              "<div>\n",
              "<style scoped>\n",
              "    .dataframe tbody tr th:only-of-type {\n",
              "        vertical-align: middle;\n",
              "    }\n",
              "\n",
              "    .dataframe tbody tr th {\n",
              "        vertical-align: top;\n",
              "    }\n",
              "\n",
              "    .dataframe thead th {\n",
              "        text-align: right;\n",
              "    }\n",
              "</style>\n",
              "<table border=\"1\" class=\"dataframe\">\n",
              "  <thead>\n",
              "    <tr style=\"text-align: right;\">\n",
              "      <th></th>\n",
              "      <th>True</th>\n",
              "      <th>Prediction</th>\n",
              "    </tr>\n",
              "  </thead>\n",
              "  <tbody>\n",
              "    <tr>\n",
              "      <th>0</th>\n",
              "      <td>1</td>\n",
              "      <td>1</td>\n",
              "    </tr>\n",
              "    <tr>\n",
              "      <th>1</th>\n",
              "      <td>1</td>\n",
              "      <td>1</td>\n",
              "    </tr>\n",
              "    <tr>\n",
              "      <th>2</th>\n",
              "      <td>0</td>\n",
              "      <td>0</td>\n",
              "    </tr>\n",
              "    <tr>\n",
              "      <th>3</th>\n",
              "      <td>0</td>\n",
              "      <td>0</td>\n",
              "    </tr>\n",
              "    <tr>\n",
              "      <th>4</th>\n",
              "      <td>0</td>\n",
              "      <td>1</td>\n",
              "    </tr>\n",
              "  </tbody>\n",
              "</table>\n",
              "</div>"
            ],
            "text/plain": [
              "  True  Prediction\n",
              "0    1           1\n",
              "1    1           1\n",
              "2    0           0\n",
              "3    0           0\n",
              "4    0           1"
            ]
          },
          "metadata": {
            "tags": []
          },
          "execution_count": 96
        }
      ]
    },
    {
      "cell_type": "code",
      "metadata": {
        "colab": {
          "base_uri": "https://localhost:8080/"
        },
        "id": "yPde6ShYRPHV",
        "outputId": "2d45607b-1608-4698-b370-cbab7dbad798"
      },
      "source": [
        "print(type(y_pred))\n",
        "print(type(y_test))\n",
        "\n",
        "print(y_pred.dtype)\n",
        "print(y_test.dtype)\n",
        "\n",
        "print(y_test.unique())\n",
        "print(y_pred.unique())\n",
        "y_pred.head()\n",
        "\n",
        "print(x_test.shape)"
      ],
      "execution_count": 97,
      "outputs": [
        {
          "output_type": "stream",
          "text": [
            "<class 'pandas.core.series.Series'>\n",
            "<class 'pandas.core.series.Series'>\n",
            "int64\n",
            "object\n",
            "[1 0]\n",
            "[1 0]\n",
            "(154, 19)\n"
          ],
          "name": "stdout"
        }
      ]
    },
    {
      "cell_type": "code",
      "metadata": {
        "id": "SsQN3sgvjtGW",
        "colab": {
          "base_uri": "https://localhost:8080/"
        },
        "outputId": "0d805fc7-bab2-4037-b05b-ed5e7f5dad4c"
      },
      "source": [
        "import matplotlib.pyplot as plt\n",
        "from sklearn import metrics\n",
        "print(\"Accuracy:\", metrics.accuracy_score(y_test.astype('int'), y_pred))\n",
        "print(\"Precision:\", metrics.precision_score(y_test.astype('int'), y_pred))\n",
        "print(\"Recall:\", metrics.recall_score(y_test.astype('int'), y_pred))"
      ],
      "execution_count": 98,
      "outputs": [
        {
          "output_type": "stream",
          "text": [
            "Accuracy: 0.8116883116883117\n",
            "Precision: 0.875\n",
            "Recall: 0.8504672897196262\n"
          ],
          "name": "stdout"
        }
      ]
    },
    {
      "cell_type": "markdown",
      "metadata": {
        "id": "w0UGmJ9mjtGW"
      },
      "source": [
        "### Calculating disparate impact on predicted values by model trained on original dataset"
      ]
    },
    {
      "cell_type": "code",
      "metadata": {
        "scrolled": true,
        "id": "uZHa0YIEjtGW",
        "colab": {
          "base_uri": "https://localhost:8080/",
          "height": 456
        },
        "outputId": "35bdc118-ca8e-41ea-99a6-9ff83294e919"
      },
      "source": [
        "# We now need to add this array into x_test as a column for when we calculate the fairness metrics.\n",
        "y_pred = model.predict(x_test)\n",
        "x_test['Loan_Status_Predicted'] = y_pred\n",
        "original_output = x_test\n",
        "#x_test.drop(['Loan_Status_Predicted'], axis=1, inplace=True)\n",
        "original_output"
      ],
      "execution_count": 100,
      "outputs": [
        {
          "output_type": "execute_result",
          "data": {
            "text/html": [
              "<div>\n",
              "<style scoped>\n",
              "    .dataframe tbody tr th:only-of-type {\n",
              "        vertical-align: middle;\n",
              "    }\n",
              "\n",
              "    .dataframe tbody tr th {\n",
              "        vertical-align: top;\n",
              "    }\n",
              "\n",
              "    .dataframe thead th {\n",
              "        text-align: right;\n",
              "    }\n",
              "</style>\n",
              "<table border=\"1\" class=\"dataframe\">\n",
              "  <thead>\n",
              "    <tr style=\"text-align: right;\">\n",
              "      <th></th>\n",
              "      <th>Gender</th>\n",
              "      <th>ApplicantIncome</th>\n",
              "      <th>CoapplicantIncome</th>\n",
              "      <th>LoanAmount</th>\n",
              "      <th>Loan_Amount_Term</th>\n",
              "      <th>Credit_History</th>\n",
              "      <th>Property_Area_Rural</th>\n",
              "      <th>Property_Area_Semiurban</th>\n",
              "      <th>Property_Area_Urban</th>\n",
              "      <th>Married_No</th>\n",
              "      <th>Married_Yes</th>\n",
              "      <th>Dependents_0</th>\n",
              "      <th>Dependents_1</th>\n",
              "      <th>Dependents_2</th>\n",
              "      <th>Dependents_3+</th>\n",
              "      <th>Education_Graduate</th>\n",
              "      <th>Education_Not Graduate</th>\n",
              "      <th>Self_Employed_No</th>\n",
              "      <th>Self_Employed_Yes</th>\n",
              "      <th>Loan_Status_Predicted</th>\n",
              "    </tr>\n",
              "  </thead>\n",
              "  <tbody>\n",
              "    <tr>\n",
              "      <th>840</th>\n",
              "      <td>1</td>\n",
              "      <td>2553</td>\n",
              "      <td>1768.0</td>\n",
              "      <td>102.0</td>\n",
              "      <td>360.0</td>\n",
              "      <td>1.0</td>\n",
              "      <td>0</td>\n",
              "      <td>0</td>\n",
              "      <td>1</td>\n",
              "      <td>0</td>\n",
              "      <td>1</td>\n",
              "      <td>1</td>\n",
              "      <td>0</td>\n",
              "      <td>0</td>\n",
              "      <td>0</td>\n",
              "      <td>1</td>\n",
              "      <td>0</td>\n",
              "      <td>1</td>\n",
              "      <td>0</td>\n",
              "      <td>1</td>\n",
              "    </tr>\n",
              "    <tr>\n",
              "      <th>159</th>\n",
              "      <td>1</td>\n",
              "      <td>4583</td>\n",
              "      <td>5625.0</td>\n",
              "      <td>255.0</td>\n",
              "      <td>360.0</td>\n",
              "      <td>1.0</td>\n",
              "      <td>0</td>\n",
              "      <td>1</td>\n",
              "      <td>0</td>\n",
              "      <td>0</td>\n",
              "      <td>1</td>\n",
              "      <td>1</td>\n",
              "      <td>0</td>\n",
              "      <td>0</td>\n",
              "      <td>0</td>\n",
              "      <td>1</td>\n",
              "      <td>0</td>\n",
              "      <td>1</td>\n",
              "      <td>0</td>\n",
              "      <td>1</td>\n",
              "    </tr>\n",
              "    <tr>\n",
              "      <th>148</th>\n",
              "      <td>0</td>\n",
              "      <td>10000</td>\n",
              "      <td>1666.0</td>\n",
              "      <td>225.0</td>\n",
              "      <td>360.0</td>\n",
              "      <td>1.0</td>\n",
              "      <td>1</td>\n",
              "      <td>0</td>\n",
              "      <td>0</td>\n",
              "      <td>1</td>\n",
              "      <td>0</td>\n",
              "      <td>1</td>\n",
              "      <td>0</td>\n",
              "      <td>0</td>\n",
              "      <td>0</td>\n",
              "      <td>1</td>\n",
              "      <td>0</td>\n",
              "      <td>1</td>\n",
              "      <td>0</td>\n",
              "      <td>0</td>\n",
              "    </tr>\n",
              "    <tr>\n",
              "      <th>17</th>\n",
              "      <td>0</td>\n",
              "      <td>3510</td>\n",
              "      <td>0.0</td>\n",
              "      <td>76.0</td>\n",
              "      <td>360.0</td>\n",
              "      <td>0.0</td>\n",
              "      <td>0</td>\n",
              "      <td>0</td>\n",
              "      <td>1</td>\n",
              "      <td>1</td>\n",
              "      <td>0</td>\n",
              "      <td>1</td>\n",
              "      <td>0</td>\n",
              "      <td>0</td>\n",
              "      <td>0</td>\n",
              "      <td>1</td>\n",
              "      <td>0</td>\n",
              "      <td>1</td>\n",
              "      <td>0</td>\n",
              "      <td>0</td>\n",
              "    </tr>\n",
              "    <tr>\n",
              "      <th>808</th>\n",
              "      <td>1</td>\n",
              "      <td>10000</td>\n",
              "      <td>2690.0</td>\n",
              "      <td>412.0</td>\n",
              "      <td>360.0</td>\n",
              "      <td>1.0</td>\n",
              "      <td>0</td>\n",
              "      <td>1</td>\n",
              "      <td>0</td>\n",
              "      <td>0</td>\n",
              "      <td>1</td>\n",
              "      <td>0</td>\n",
              "      <td>1</td>\n",
              "      <td>0</td>\n",
              "      <td>0</td>\n",
              "      <td>1</td>\n",
              "      <td>0</td>\n",
              "      <td>1</td>\n",
              "      <td>0</td>\n",
              "      <td>1</td>\n",
              "    </tr>\n",
              "    <tr>\n",
              "      <th>...</th>\n",
              "      <td>...</td>\n",
              "      <td>...</td>\n",
              "      <td>...</td>\n",
              "      <td>...</td>\n",
              "      <td>...</td>\n",
              "      <td>...</td>\n",
              "      <td>...</td>\n",
              "      <td>...</td>\n",
              "      <td>...</td>\n",
              "      <td>...</td>\n",
              "      <td>...</td>\n",
              "      <td>...</td>\n",
              "      <td>...</td>\n",
              "      <td>...</td>\n",
              "      <td>...</td>\n",
              "      <td>...</td>\n",
              "      <td>...</td>\n",
              "      <td>...</td>\n",
              "      <td>...</td>\n",
              "      <td>...</td>\n",
              "    </tr>\n",
              "    <tr>\n",
              "      <th>611</th>\n",
              "      <td>1</td>\n",
              "      <td>8072</td>\n",
              "      <td>240.0</td>\n",
              "      <td>253.0</td>\n",
              "      <td>360.0</td>\n",
              "      <td>1.0</td>\n",
              "      <td>0</td>\n",
              "      <td>0</td>\n",
              "      <td>1</td>\n",
              "      <td>0</td>\n",
              "      <td>1</td>\n",
              "      <td>0</td>\n",
              "      <td>1</td>\n",
              "      <td>0</td>\n",
              "      <td>0</td>\n",
              "      <td>1</td>\n",
              "      <td>0</td>\n",
              "      <td>1</td>\n",
              "      <td>0</td>\n",
              "      <td>1</td>\n",
              "    </tr>\n",
              "    <tr>\n",
              "      <th>471</th>\n",
              "      <td>1</td>\n",
              "      <td>2653</td>\n",
              "      <td>1500.0</td>\n",
              "      <td>113.0</td>\n",
              "      <td>180.0</td>\n",
              "      <td>0.0</td>\n",
              "      <td>1</td>\n",
              "      <td>0</td>\n",
              "      <td>0</td>\n",
              "      <td>0</td>\n",
              "      <td>1</td>\n",
              "      <td>0</td>\n",
              "      <td>1</td>\n",
              "      <td>0</td>\n",
              "      <td>0</td>\n",
              "      <td>0</td>\n",
              "      <td>1</td>\n",
              "      <td>1</td>\n",
              "      <td>0</td>\n",
              "      <td>0</td>\n",
              "    </tr>\n",
              "    <tr>\n",
              "      <th>291</th>\n",
              "      <td>1</td>\n",
              "      <td>4400</td>\n",
              "      <td>0.0</td>\n",
              "      <td>127.0</td>\n",
              "      <td>360.0</td>\n",
              "      <td>0.0</td>\n",
              "      <td>0</td>\n",
              "      <td>1</td>\n",
              "      <td>0</td>\n",
              "      <td>0</td>\n",
              "      <td>1</td>\n",
              "      <td>0</td>\n",
              "      <td>0</td>\n",
              "      <td>1</td>\n",
              "      <td>0</td>\n",
              "      <td>1</td>\n",
              "      <td>0</td>\n",
              "      <td>1</td>\n",
              "      <td>0</td>\n",
              "      <td>0</td>\n",
              "    </tr>\n",
              "    <tr>\n",
              "      <th>797</th>\n",
              "      <td>0</td>\n",
              "      <td>4000</td>\n",
              "      <td>3917.0</td>\n",
              "      <td>173.0</td>\n",
              "      <td>360.0</td>\n",
              "      <td>1.0</td>\n",
              "      <td>1</td>\n",
              "      <td>0</td>\n",
              "      <td>0</td>\n",
              "      <td>0</td>\n",
              "      <td>1</td>\n",
              "      <td>0</td>\n",
              "      <td>1</td>\n",
              "      <td>0</td>\n",
              "      <td>0</td>\n",
              "      <td>1</td>\n",
              "      <td>0</td>\n",
              "      <td>1</td>\n",
              "      <td>0</td>\n",
              "      <td>0</td>\n",
              "    </tr>\n",
              "    <tr>\n",
              "      <th>618</th>\n",
              "      <td>1</td>\n",
              "      <td>3276</td>\n",
              "      <td>0.0</td>\n",
              "      <td>78.0</td>\n",
              "      <td>360.0</td>\n",
              "      <td>1.0</td>\n",
              "      <td>0</td>\n",
              "      <td>0</td>\n",
              "      <td>1</td>\n",
              "      <td>1</td>\n",
              "      <td>0</td>\n",
              "      <td>1</td>\n",
              "      <td>0</td>\n",
              "      <td>0</td>\n",
              "      <td>0</td>\n",
              "      <td>0</td>\n",
              "      <td>1</td>\n",
              "      <td>1</td>\n",
              "      <td>0</td>\n",
              "      <td>1</td>\n",
              "    </tr>\n",
              "  </tbody>\n",
              "</table>\n",
              "<p>154 rows × 20 columns</p>\n",
              "</div>"
            ],
            "text/plain": [
              "    Gender  ApplicantIncome  ...  Self_Employed_Yes  Loan_Status_Predicted\n",
              "840      1             2553  ...                  0                      1\n",
              "159      1             4583  ...                  0                      1\n",
              "148      0            10000  ...                  0                      0\n",
              "17       0             3510  ...                  0                      0\n",
              "808      1            10000  ...                  0                      1\n",
              "..     ...              ...  ...                ...                    ...\n",
              "611      1             8072  ...                  0                      1\n",
              "471      1             2653  ...                  0                      0\n",
              "291      1             4400  ...                  0                      0\n",
              "797      0             4000  ...                  0                      0\n",
              "618      1             3276  ...                  0                      1\n",
              "\n",
              "[154 rows x 20 columns]"
            ]
          },
          "metadata": {
            "tags": []
          },
          "execution_count": 100
        }
      ]
    },
    {
      "cell_type": "code",
      "metadata": {
        "id": "XVUR3FvdjtGX"
      },
      "source": [
        "# Priviliged group: Males (1)\n",
        "# Unpriviliged group: Females (0)\n",
        "male_df = original_output[original_output['Gender'] == 1]\n",
        "num_of_priviliged = male_df.shape[0]\n",
        "female_df = original_output[original_output['Gender'] == 0]\n",
        "num_of_unpriviliged = female_df.shape[0]"
      ],
      "execution_count": 101,
      "outputs": []
    },
    {
      "cell_type": "code",
      "metadata": {
        "id": "hYhHMCWfjtGX",
        "colab": {
          "base_uri": "https://localhost:8080/"
        },
        "outputId": "f8ffdbf3-46b6-4211-ea97-5de4a1942edf"
      },
      "source": [
        "unpriviliged_outcomes = female_df[female_df['Loan_Status_Predicted'] == 1].shape[0]\n",
        "unpriviliged_ratio = unpriviliged_outcomes/num_of_unpriviliged\n",
        "unpriviliged_ratio"
      ],
      "execution_count": 102,
      "outputs": [
        {
          "output_type": "execute_result",
          "data": {
            "text/plain": [
              "0.4857142857142857"
            ]
          },
          "metadata": {
            "tags": []
          },
          "execution_count": 102
        }
      ]
    },
    {
      "cell_type": "code",
      "metadata": {
        "id": "rglcoNKgjtGY",
        "colab": {
          "base_uri": "https://localhost:8080/"
        },
        "outputId": "bcdb994b-e583-46d2-95ca-fe4bdefa71bb"
      },
      "source": [
        "priviliged_outcomes = male_df[male_df['Loan_Status_Predicted'] == 1].shape[0]\n",
        "priviliged_ratio = priviliged_outcomes/num_of_priviliged\n",
        "priviliged_ratio"
      ],
      "execution_count": 103,
      "outputs": [
        {
          "output_type": "execute_result",
          "data": {
            "text/plain": [
              "0.7310924369747899"
            ]
          },
          "metadata": {
            "tags": []
          },
          "execution_count": 103
        }
      ]
    },
    {
      "cell_type": "code",
      "metadata": {
        "id": "8V5OosTKjtGY",
        "colab": {
          "base_uri": "https://localhost:8080/"
        },
        "outputId": "8f2b8926-b320-42e5-bfae-6a6e931b559a"
      },
      "source": [
        "# Calculating disparate impact\n",
        "disparate_impact = unpriviliged_ratio / priviliged_ratio\n",
        "print(\"Disparate Impact, Sex vs. Predicted Loan Status: \" + str(disparate_impact))"
      ],
      "execution_count": 104,
      "outputs": [
        {
          "output_type": "stream",
          "text": [
            "Disparate Impact, Sex vs. Predicted Loan Status: 0.664367816091954\n"
          ],
          "name": "stdout"
        }
      ]
    },
    {
      "cell_type": "markdown",
      "metadata": {
        "id": "IDkjfDkJjtGY"
      },
      "source": [
        "### Applying the Disparate Impact Remover to the dataset"
      ]
    },
    {
      "cell_type": "code",
      "metadata": {
        "id": "jfQnlqpKjtGZ",
        "colab": {
          "base_uri": "https://localhost:8080/",
          "height": 456
        },
        "outputId": "b45b03b6-433e-492d-cf67-acbfe1feaea0"
      },
      "source": [
        "# We are going to be using the dataset with categorical features encoded, encoded_df\n",
        "encoded_df"
      ],
      "execution_count": 105,
      "outputs": [
        {
          "output_type": "execute_result",
          "data": {
            "text/html": [
              "<div>\n",
              "<style scoped>\n",
              "    .dataframe tbody tr th:only-of-type {\n",
              "        vertical-align: middle;\n",
              "    }\n",
              "\n",
              "    .dataframe tbody tr th {\n",
              "        vertical-align: top;\n",
              "    }\n",
              "\n",
              "    .dataframe thead th {\n",
              "        text-align: right;\n",
              "    }\n",
              "</style>\n",
              "<table border=\"1\" class=\"dataframe\">\n",
              "  <thead>\n",
              "    <tr style=\"text-align: right;\">\n",
              "      <th></th>\n",
              "      <th>Gender</th>\n",
              "      <th>ApplicantIncome</th>\n",
              "      <th>CoapplicantIncome</th>\n",
              "      <th>LoanAmount</th>\n",
              "      <th>Loan_Amount_Term</th>\n",
              "      <th>Credit_History</th>\n",
              "      <th>Loan_Status</th>\n",
              "      <th>Property_Area_Rural</th>\n",
              "      <th>Property_Area_Semiurban</th>\n",
              "      <th>Property_Area_Urban</th>\n",
              "      <th>Married_No</th>\n",
              "      <th>Married_Yes</th>\n",
              "      <th>Dependents_0</th>\n",
              "      <th>Dependents_1</th>\n",
              "      <th>Dependents_2</th>\n",
              "      <th>Dependents_3+</th>\n",
              "      <th>Education_Graduate</th>\n",
              "      <th>Education_Not Graduate</th>\n",
              "      <th>Self_Employed_No</th>\n",
              "      <th>Self_Employed_Yes</th>\n",
              "    </tr>\n",
              "  </thead>\n",
              "  <tbody>\n",
              "    <tr>\n",
              "      <th>1</th>\n",
              "      <td>1</td>\n",
              "      <td>4583</td>\n",
              "      <td>1508.0</td>\n",
              "      <td>128.0</td>\n",
              "      <td>360.0</td>\n",
              "      <td>1.0</td>\n",
              "      <td>0</td>\n",
              "      <td>1</td>\n",
              "      <td>0</td>\n",
              "      <td>0</td>\n",
              "      <td>0</td>\n",
              "      <td>1</td>\n",
              "      <td>0</td>\n",
              "      <td>1</td>\n",
              "      <td>0</td>\n",
              "      <td>0</td>\n",
              "      <td>1</td>\n",
              "      <td>0</td>\n",
              "      <td>1</td>\n",
              "      <td>0</td>\n",
              "    </tr>\n",
              "    <tr>\n",
              "      <th>2</th>\n",
              "      <td>1</td>\n",
              "      <td>3000</td>\n",
              "      <td>0.0</td>\n",
              "      <td>66.0</td>\n",
              "      <td>360.0</td>\n",
              "      <td>1.0</td>\n",
              "      <td>1</td>\n",
              "      <td>0</td>\n",
              "      <td>0</td>\n",
              "      <td>1</td>\n",
              "      <td>0</td>\n",
              "      <td>1</td>\n",
              "      <td>1</td>\n",
              "      <td>0</td>\n",
              "      <td>0</td>\n",
              "      <td>0</td>\n",
              "      <td>1</td>\n",
              "      <td>0</td>\n",
              "      <td>0</td>\n",
              "      <td>1</td>\n",
              "    </tr>\n",
              "    <tr>\n",
              "      <th>3</th>\n",
              "      <td>1</td>\n",
              "      <td>2583</td>\n",
              "      <td>2358.0</td>\n",
              "      <td>120.0</td>\n",
              "      <td>360.0</td>\n",
              "      <td>1.0</td>\n",
              "      <td>1</td>\n",
              "      <td>0</td>\n",
              "      <td>0</td>\n",
              "      <td>1</td>\n",
              "      <td>0</td>\n",
              "      <td>1</td>\n",
              "      <td>1</td>\n",
              "      <td>0</td>\n",
              "      <td>0</td>\n",
              "      <td>0</td>\n",
              "      <td>0</td>\n",
              "      <td>1</td>\n",
              "      <td>1</td>\n",
              "      <td>0</td>\n",
              "    </tr>\n",
              "    <tr>\n",
              "      <th>4</th>\n",
              "      <td>1</td>\n",
              "      <td>6000</td>\n",
              "      <td>0.0</td>\n",
              "      <td>141.0</td>\n",
              "      <td>360.0</td>\n",
              "      <td>1.0</td>\n",
              "      <td>1</td>\n",
              "      <td>0</td>\n",
              "      <td>0</td>\n",
              "      <td>1</td>\n",
              "      <td>1</td>\n",
              "      <td>0</td>\n",
              "      <td>1</td>\n",
              "      <td>0</td>\n",
              "      <td>0</td>\n",
              "      <td>0</td>\n",
              "      <td>1</td>\n",
              "      <td>0</td>\n",
              "      <td>1</td>\n",
              "      <td>0</td>\n",
              "    </tr>\n",
              "    <tr>\n",
              "      <th>5</th>\n",
              "      <td>1</td>\n",
              "      <td>5417</td>\n",
              "      <td>4196.0</td>\n",
              "      <td>267.0</td>\n",
              "      <td>360.0</td>\n",
              "      <td>1.0</td>\n",
              "      <td>1</td>\n",
              "      <td>0</td>\n",
              "      <td>0</td>\n",
              "      <td>1</td>\n",
              "      <td>0</td>\n",
              "      <td>1</td>\n",
              "      <td>0</td>\n",
              "      <td>0</td>\n",
              "      <td>1</td>\n",
              "      <td>0</td>\n",
              "      <td>1</td>\n",
              "      <td>0</td>\n",
              "      <td>0</td>\n",
              "      <td>1</td>\n",
              "    </tr>\n",
              "    <tr>\n",
              "      <th>...</th>\n",
              "      <td>...</td>\n",
              "      <td>...</td>\n",
              "      <td>...</td>\n",
              "      <td>...</td>\n",
              "      <td>...</td>\n",
              "      <td>...</td>\n",
              "      <td>...</td>\n",
              "      <td>...</td>\n",
              "      <td>...</td>\n",
              "      <td>...</td>\n",
              "      <td>...</td>\n",
              "      <td>...</td>\n",
              "      <td>...</td>\n",
              "      <td>...</td>\n",
              "      <td>...</td>\n",
              "      <td>...</td>\n",
              "      <td>...</td>\n",
              "      <td>...</td>\n",
              "      <td>...</td>\n",
              "      <td>...</td>\n",
              "    </tr>\n",
              "    <tr>\n",
              "      <th>975</th>\n",
              "      <td>1</td>\n",
              "      <td>2269</td>\n",
              "      <td>2167.0</td>\n",
              "      <td>99.0</td>\n",
              "      <td>360.0</td>\n",
              "      <td>1.0</td>\n",
              "      <td>1</td>\n",
              "      <td>0</td>\n",
              "      <td>1</td>\n",
              "      <td>0</td>\n",
              "      <td>0</td>\n",
              "      <td>1</td>\n",
              "      <td>0</td>\n",
              "      <td>1</td>\n",
              "      <td>0</td>\n",
              "      <td>0</td>\n",
              "      <td>1</td>\n",
              "      <td>0</td>\n",
              "      <td>1</td>\n",
              "      <td>0</td>\n",
              "    </tr>\n",
              "    <tr>\n",
              "      <th>976</th>\n",
              "      <td>1</td>\n",
              "      <td>4009</td>\n",
              "      <td>1777.0</td>\n",
              "      <td>113.0</td>\n",
              "      <td>360.0</td>\n",
              "      <td>1.0</td>\n",
              "      <td>1</td>\n",
              "      <td>0</td>\n",
              "      <td>0</td>\n",
              "      <td>1</td>\n",
              "      <td>0</td>\n",
              "      <td>1</td>\n",
              "      <td>0</td>\n",
              "      <td>0</td>\n",
              "      <td>0</td>\n",
              "      <td>1</td>\n",
              "      <td>0</td>\n",
              "      <td>1</td>\n",
              "      <td>0</td>\n",
              "      <td>1</td>\n",
              "    </tr>\n",
              "    <tr>\n",
              "      <th>977</th>\n",
              "      <td>1</td>\n",
              "      <td>4158</td>\n",
              "      <td>709.0</td>\n",
              "      <td>115.0</td>\n",
              "      <td>360.0</td>\n",
              "      <td>1.0</td>\n",
              "      <td>1</td>\n",
              "      <td>0</td>\n",
              "      <td>0</td>\n",
              "      <td>1</td>\n",
              "      <td>0</td>\n",
              "      <td>1</td>\n",
              "      <td>1</td>\n",
              "      <td>0</td>\n",
              "      <td>0</td>\n",
              "      <td>0</td>\n",
              "      <td>1</td>\n",
              "      <td>0</td>\n",
              "      <td>1</td>\n",
              "      <td>0</td>\n",
              "    </tr>\n",
              "    <tr>\n",
              "      <th>979</th>\n",
              "      <td>1</td>\n",
              "      <td>5000</td>\n",
              "      <td>2393.0</td>\n",
              "      <td>158.0</td>\n",
              "      <td>360.0</td>\n",
              "      <td>1.0</td>\n",
              "      <td>0</td>\n",
              "      <td>1</td>\n",
              "      <td>0</td>\n",
              "      <td>0</td>\n",
              "      <td>0</td>\n",
              "      <td>1</td>\n",
              "      <td>1</td>\n",
              "      <td>0</td>\n",
              "      <td>0</td>\n",
              "      <td>0</td>\n",
              "      <td>1</td>\n",
              "      <td>0</td>\n",
              "      <td>1</td>\n",
              "      <td>0</td>\n",
              "    </tr>\n",
              "    <tr>\n",
              "      <th>980</th>\n",
              "      <td>1</td>\n",
              "      <td>9200</td>\n",
              "      <td>0.0</td>\n",
              "      <td>98.0</td>\n",
              "      <td>180.0</td>\n",
              "      <td>1.0</td>\n",
              "      <td>1</td>\n",
              "      <td>1</td>\n",
              "      <td>0</td>\n",
              "      <td>0</td>\n",
              "      <td>1</td>\n",
              "      <td>0</td>\n",
              "      <td>1</td>\n",
              "      <td>0</td>\n",
              "      <td>0</td>\n",
              "      <td>0</td>\n",
              "      <td>1</td>\n",
              "      <td>0</td>\n",
              "      <td>0</td>\n",
              "      <td>1</td>\n",
              "    </tr>\n",
              "  </tbody>\n",
              "</table>\n",
              "<p>769 rows × 20 columns</p>\n",
              "</div>"
            ],
            "text/plain": [
              "    Gender  ApplicantIncome  ...  Self_Employed_No  Self_Employed_Yes\n",
              "1        1             4583  ...                 1                  0\n",
              "2        1             3000  ...                 0                  1\n",
              "3        1             2583  ...                 1                  0\n",
              "4        1             6000  ...                 1                  0\n",
              "5        1             5417  ...                 0                  1\n",
              "..     ...              ...  ...               ...                ...\n",
              "975      1             2269  ...                 1                  0\n",
              "976      1             4009  ...                 0                  1\n",
              "977      1             4158  ...                 1                  0\n",
              "979      1             5000  ...                 1                  0\n",
              "980      1             9200  ...                 0                  1\n",
              "\n",
              "[769 rows x 20 columns]"
            ]
          },
          "metadata": {
            "tags": []
          },
          "execution_count": 105
        }
      ]
    },
    {
      "cell_type": "code",
      "metadata": {
        "colab": {
          "base_uri": "https://localhost:8080/"
        },
        "id": "ciFAtko_aEcS",
        "outputId": "b498e397-5f91-4f8b-ece9-2def8f252635"
      },
      "source": [
        "encoded_df.info()"
      ],
      "execution_count": 109,
      "outputs": [
        {
          "output_type": "stream",
          "text": [
            "<class 'pandas.core.frame.DataFrame'>\n",
            "Int64Index: 769 entries, 1 to 980\n",
            "Data columns (total 20 columns):\n",
            " #   Column                   Non-Null Count  Dtype  \n",
            "---  ------                   --------------  -----  \n",
            " 0   Gender                   769 non-null    object \n",
            " 1   ApplicantIncome          769 non-null    int64  \n",
            " 2   CoapplicantIncome        769 non-null    float64\n",
            " 3   LoanAmount               769 non-null    float64\n",
            " 4   Loan_Amount_Term         769 non-null    float64\n",
            " 5   Credit_History           769 non-null    float64\n",
            " 6   Loan_Status              769 non-null    object \n",
            " 7   Property_Area_Rural      769 non-null    uint8  \n",
            " 8   Property_Area_Semiurban  769 non-null    uint8  \n",
            " 9   Property_Area_Urban      769 non-null    uint8  \n",
            " 10  Married_No               769 non-null    uint8  \n",
            " 11  Married_Yes              769 non-null    uint8  \n",
            " 12  Dependents_0             769 non-null    uint8  \n",
            " 13  Dependents_1             769 non-null    uint8  \n",
            " 14  Dependents_2             769 non-null    uint8  \n",
            " 15  Dependents_3+            769 non-null    uint8  \n",
            " 16  Education_Graduate       769 non-null    uint8  \n",
            " 17  Education_Not Graduate   769 non-null    uint8  \n",
            " 18  Self_Employed_No         769 non-null    uint8  \n",
            " 19  Self_Employed_Yes        769 non-null    uint8  \n",
            "dtypes: float64(4), int64(1), object(2), uint8(13)\n",
            "memory usage: 77.8+ KB\n"
          ],
          "name": "stdout"
        }
      ]
    },
    {
      "cell_type": "code",
      "metadata": {
        "colab": {
          "base_uri": "https://localhost:8080/"
        },
        "id": "7C8-xvJHaMK0",
        "outputId": "b1f6d54c-ea7c-41bf-c639-227a4ca90103"
      },
      "source": [
        "encoded_df.Loan_Status.unique()"
      ],
      "execution_count": 110,
      "outputs": [
        {
          "output_type": "execute_result",
          "data": {
            "text/plain": [
              "array([0, 1], dtype=object)"
            ]
          },
          "metadata": {
            "tags": []
          },
          "execution_count": 110
        }
      ]
    },
    {
      "cell_type": "code",
      "metadata": {
        "colab": {
          "base_uri": "https://localhost:8080/"
        },
        "id": "uB4g1kK8ZmZC",
        "outputId": "1ad804d8-a29a-4525-fd52-eed2d641b17c"
      },
      "source": [
        "!pip install BlackBoxAuditing"
      ],
      "execution_count": 107,
      "outputs": [
        {
          "output_type": "stream",
          "text": [
            "Collecting BlackBoxAuditing\n",
            "\u001b[?25l  Downloading https://files.pythonhosted.org/packages/d8/2e/e2e7166bc78eb599b602ca79ace1ceba2ef83b69a0b708c9a7eb729347bf/BlackBoxAuditing-0.1.54.tar.gz (2.6MB)\n",
            "\r\u001b[K     |▏                               | 10kB 14.2MB/s eta 0:00:01\r\u001b[K     |▎                               | 20kB 19.3MB/s eta 0:00:01\r\u001b[K     |▍                               | 30kB 22.6MB/s eta 0:00:01\r\u001b[K     |▌                               | 40kB 26.2MB/s eta 0:00:01\r\u001b[K     |▋                               | 51kB 29.3MB/s eta 0:00:01\r\u001b[K     |▊                               | 61kB 28.1MB/s eta 0:00:01\r\u001b[K     |▉                               | 71kB 29.0MB/s eta 0:00:01\r\u001b[K     |█                               | 81kB 27.0MB/s eta 0:00:01\r\u001b[K     |█▏                              | 92kB 26.9MB/s eta 0:00:01\r\u001b[K     |█▎                              | 102kB 27.8MB/s eta 0:00:01\r\u001b[K     |█▍                              | 112kB 27.8MB/s eta 0:00:01\r\u001b[K     |█▌                              | 122kB 27.8MB/s eta 0:00:01\r\u001b[K     |█▋                              | 133kB 27.8MB/s eta 0:00:01\r\u001b[K     |█▊                              | 143kB 27.8MB/s eta 0:00:01\r\u001b[K     |██                              | 153kB 27.8MB/s eta 0:00:01\r\u001b[K     |██                              | 163kB 27.8MB/s eta 0:00:01\r\u001b[K     |██▏                             | 174kB 27.8MB/s eta 0:00:01\r\u001b[K     |██▎                             | 184kB 27.8MB/s eta 0:00:01\r\u001b[K     |██▍                             | 194kB 27.8MB/s eta 0:00:01\r\u001b[K     |██▌                             | 204kB 27.8MB/s eta 0:00:01\r\u001b[K     |██▋                             | 215kB 27.8MB/s eta 0:00:01\r\u001b[K     |██▊                             | 225kB 27.8MB/s eta 0:00:01\r\u001b[K     |███                             | 235kB 27.8MB/s eta 0:00:01\r\u001b[K     |███                             | 245kB 27.8MB/s eta 0:00:01\r\u001b[K     |███▏                            | 256kB 27.8MB/s eta 0:00:01\r\u001b[K     |███▎                            | 266kB 27.8MB/s eta 0:00:01\r\u001b[K     |███▍                            | 276kB 27.8MB/s eta 0:00:01\r\u001b[K     |███▌                            | 286kB 27.8MB/s eta 0:00:01\r\u001b[K     |███▋                            | 296kB 27.8MB/s eta 0:00:01\r\u001b[K     |███▉                            | 307kB 27.8MB/s eta 0:00:01\r\u001b[K     |████                            | 317kB 27.8MB/s eta 0:00:01\r\u001b[K     |████                            | 327kB 27.8MB/s eta 0:00:01\r\u001b[K     |████▏                           | 337kB 27.8MB/s eta 0:00:01\r\u001b[K     |████▎                           | 348kB 27.8MB/s eta 0:00:01\r\u001b[K     |████▍                           | 358kB 27.8MB/s eta 0:00:01\r\u001b[K     |████▌                           | 368kB 27.8MB/s eta 0:00:01\r\u001b[K     |████▋                           | 378kB 27.8MB/s eta 0:00:01\r\u001b[K     |████▉                           | 389kB 27.8MB/s eta 0:00:01\r\u001b[K     |█████                           | 399kB 27.8MB/s eta 0:00:01\r\u001b[K     |█████                           | 409kB 27.8MB/s eta 0:00:01\r\u001b[K     |█████▏                          | 419kB 27.8MB/s eta 0:00:01\r\u001b[K     |█████▎                          | 430kB 27.8MB/s eta 0:00:01\r\u001b[K     |█████▍                          | 440kB 27.8MB/s eta 0:00:01\r\u001b[K     |█████▌                          | 450kB 27.8MB/s eta 0:00:01\r\u001b[K     |█████▊                          | 460kB 27.8MB/s eta 0:00:01\r\u001b[K     |█████▉                          | 471kB 27.8MB/s eta 0:00:01\r\u001b[K     |██████                          | 481kB 27.8MB/s eta 0:00:01\r\u001b[K     |██████                          | 491kB 27.8MB/s eta 0:00:01\r\u001b[K     |██████▏                         | 501kB 27.8MB/s eta 0:00:01\r\u001b[K     |██████▎                         | 512kB 27.8MB/s eta 0:00:01\r\u001b[K     |██████▍                         | 522kB 27.8MB/s eta 0:00:01\r\u001b[K     |██████▋                         | 532kB 27.8MB/s eta 0:00:01\r\u001b[K     |██████▊                         | 542kB 27.8MB/s eta 0:00:01\r\u001b[K     |██████▉                         | 552kB 27.8MB/s eta 0:00:01\r\u001b[K     |███████                         | 563kB 27.8MB/s eta 0:00:01\r\u001b[K     |███████                         | 573kB 27.8MB/s eta 0:00:01\r\u001b[K     |███████▏                        | 583kB 27.8MB/s eta 0:00:01\r\u001b[K     |███████▎                        | 593kB 27.8MB/s eta 0:00:01\r\u001b[K     |███████▍                        | 604kB 27.8MB/s eta 0:00:01\r\u001b[K     |███████▋                        | 614kB 27.8MB/s eta 0:00:01\r\u001b[K     |███████▊                        | 624kB 27.8MB/s eta 0:00:01\r\u001b[K     |███████▉                        | 634kB 27.8MB/s eta 0:00:01\r\u001b[K     |████████                        | 645kB 27.8MB/s eta 0:00:01\r\u001b[K     |████████                        | 655kB 27.8MB/s eta 0:00:01\r\u001b[K     |████████▏                       | 665kB 27.8MB/s eta 0:00:01\r\u001b[K     |████████▎                       | 675kB 27.8MB/s eta 0:00:01\r\u001b[K     |████████▌                       | 686kB 27.8MB/s eta 0:00:01\r\u001b[K     |████████▋                       | 696kB 27.8MB/s eta 0:00:01\r\u001b[K     |████████▊                       | 706kB 27.8MB/s eta 0:00:01\r\u001b[K     |████████▉                       | 716kB 27.8MB/s eta 0:00:01\r\u001b[K     |█████████                       | 727kB 27.8MB/s eta 0:00:01\r\u001b[K     |█████████                       | 737kB 27.8MB/s eta 0:00:01\r\u001b[K     |█████████▏                      | 747kB 27.8MB/s eta 0:00:01\r\u001b[K     |█████████▎                      | 757kB 27.8MB/s eta 0:00:01\r\u001b[K     |█████████▌                      | 768kB 27.8MB/s eta 0:00:01\r\u001b[K     |█████████▋                      | 778kB 27.8MB/s eta 0:00:01\r\u001b[K     |█████████▊                      | 788kB 27.8MB/s eta 0:00:01\r\u001b[K     |█████████▉                      | 798kB 27.8MB/s eta 0:00:01\r\u001b[K     |██████████                      | 808kB 27.8MB/s eta 0:00:01\r\u001b[K     |██████████                      | 819kB 27.8MB/s eta 0:00:01\r\u001b[K     |██████████▏                     | 829kB 27.8MB/s eta 0:00:01\r\u001b[K     |██████████▍                     | 839kB 27.8MB/s eta 0:00:01\r\u001b[K     |██████████▌                     | 849kB 27.8MB/s eta 0:00:01\r\u001b[K     |██████████▋                     | 860kB 27.8MB/s eta 0:00:01\r\u001b[K     |██████████▊                     | 870kB 27.8MB/s eta 0:00:01\r\u001b[K     |██████████▉                     | 880kB 27.8MB/s eta 0:00:01\r\u001b[K     |███████████                     | 890kB 27.8MB/s eta 0:00:01\r\u001b[K     |███████████                     | 901kB 27.8MB/s eta 0:00:01\r\u001b[K     |███████████▎                    | 911kB 27.8MB/s eta 0:00:01\r\u001b[K     |███████████▍                    | 921kB 27.8MB/s eta 0:00:01\r\u001b[K     |███████████▌                    | 931kB 27.8MB/s eta 0:00:01\r\u001b[K     |███████████▋                    | 942kB 27.8MB/s eta 0:00:01\r\u001b[K     |███████████▊                    | 952kB 27.8MB/s eta 0:00:01\r\u001b[K     |███████████▉                    | 962kB 27.8MB/s eta 0:00:01\r\u001b[K     |████████████                    | 972kB 27.8MB/s eta 0:00:01\r\u001b[K     |████████████                    | 983kB 27.8MB/s eta 0:00:01\r\u001b[K     |████████████▎                   | 993kB 27.8MB/s eta 0:00:01\r\u001b[K     |████████████▍                   | 1.0MB 27.8MB/s eta 0:00:01\r\u001b[K     |████████████▌                   | 1.0MB 27.8MB/s eta 0:00:01\r\u001b[K     |████████████▋                   | 1.0MB 27.8MB/s eta 0:00:01\r\u001b[K     |████████████▊                   | 1.0MB 27.8MB/s eta 0:00:01\r\u001b[K     |████████████▉                   | 1.0MB 27.8MB/s eta 0:00:01\r\u001b[K     |█████████████                   | 1.1MB 27.8MB/s eta 0:00:01\r\u001b[K     |█████████████▏                  | 1.1MB 27.8MB/s eta 0:00:01\r\u001b[K     |█████████████▎                  | 1.1MB 27.8MB/s eta 0:00:01\r\u001b[K     |█████████████▍                  | 1.1MB 27.8MB/s eta 0:00:01\r\u001b[K     |█████████████▌                  | 1.1MB 27.8MB/s eta 0:00:01\r\u001b[K     |█████████████▋                  | 1.1MB 27.8MB/s eta 0:00:01\r\u001b[K     |█████████████▊                  | 1.1MB 27.8MB/s eta 0:00:01\r\u001b[K     |█████████████▉                  | 1.1MB 27.8MB/s eta 0:00:01\r\u001b[K     |██████████████                  | 1.1MB 27.8MB/s eta 0:00:01\r\u001b[K     |██████████████▏                 | 1.1MB 27.8MB/s eta 0:00:01\r\u001b[K     |██████████████▎                 | 1.2MB 27.8MB/s eta 0:00:01\r\u001b[K     |██████████████▍                 | 1.2MB 27.8MB/s eta 0:00:01\r\u001b[K     |██████████████▌                 | 1.2MB 27.8MB/s eta 0:00:01\r\u001b[K     |██████████████▋                 | 1.2MB 27.8MB/s eta 0:00:01\r\u001b[K     |██████████████▊                 | 1.2MB 27.8MB/s eta 0:00:01\r\u001b[K     |██████████████▉                 | 1.2MB 27.8MB/s eta 0:00:01\r\u001b[K     |███████████████                 | 1.2MB 27.8MB/s eta 0:00:01\r\u001b[K     |███████████████▏                | 1.2MB 27.8MB/s eta 0:00:01\r\u001b[K     |███████████████▎                | 1.2MB 27.8MB/s eta 0:00:01\r\u001b[K     |███████████████▍                | 1.2MB 27.8MB/s eta 0:00:01\r\u001b[K     |███████████████▌                | 1.3MB 27.8MB/s eta 0:00:01\r\u001b[K     |███████████████▋                | 1.3MB 27.8MB/s eta 0:00:01\r\u001b[K     |███████████████▊                | 1.3MB 27.8MB/s eta 0:00:01\r\u001b[K     |████████████████                | 1.3MB 27.8MB/s eta 0:00:01\r\u001b[K     |████████████████                | 1.3MB 27.8MB/s eta 0:00:01\r\u001b[K     |████████████████▏               | 1.3MB 27.8MB/s eta 0:00:01\r\u001b[K     |████████████████▎               | 1.3MB 27.8MB/s eta 0:00:01\r\u001b[K     |████████████████▍               | 1.3MB 27.8MB/s eta 0:00:01\r\u001b[K     |████████████████▌               | 1.3MB 27.8MB/s eta 0:00:01\r\u001b[K     |████████████████▋               | 1.4MB 27.8MB/s eta 0:00:01\r\u001b[K     |████████████████▊               | 1.4MB 27.8MB/s eta 0:00:01\r\u001b[K     |█████████████████               | 1.4MB 27.8MB/s eta 0:00:01\r\u001b[K     |█████████████████               | 1.4MB 27.8MB/s eta 0:00:01\r\u001b[K     |█████████████████▏              | 1.4MB 27.8MB/s eta 0:00:01\r\u001b[K     |█████████████████▎              | 1.4MB 27.8MB/s eta 0:00:01\r\u001b[K     |█████████████████▍              | 1.4MB 27.8MB/s eta 0:00:01\r\u001b[K     |█████████████████▌              | 1.4MB 27.8MB/s eta 0:00:01\r\u001b[K     |█████████████████▋              | 1.4MB 27.8MB/s eta 0:00:01\r\u001b[K     |█████████████████▉              | 1.4MB 27.8MB/s eta 0:00:01\r\u001b[K     |██████████████████              | 1.5MB 27.8MB/s eta 0:00:01\r\u001b[K     |██████████████████              | 1.5MB 27.8MB/s eta 0:00:01\r\u001b[K     |██████████████████▏             | 1.5MB 27.8MB/s eta 0:00:01\r\u001b[K     |██████████████████▎             | 1.5MB 27.8MB/s eta 0:00:01\r\u001b[K     |██████████████████▍             | 1.5MB 27.8MB/s eta 0:00:01\r\u001b[K     |██████████████████▌             | 1.5MB 27.8MB/s eta 0:00:01\r\u001b[K     |██████████████████▋             | 1.5MB 27.8MB/s eta 0:00:01\r\u001b[K     |██████████████████▉             | 1.5MB 27.8MB/s eta 0:00:01\r\u001b[K     |███████████████████             | 1.5MB 27.8MB/s eta 0:00:01\r\u001b[K     |███████████████████             | 1.5MB 27.8MB/s eta 0:00:01\r\u001b[K     |███████████████████▏            | 1.6MB 27.8MB/s eta 0:00:01\r\u001b[K     |███████████████████▎            | 1.6MB 27.8MB/s eta 0:00:01\r\u001b[K     |███████████████████▍            | 1.6MB 27.8MB/s eta 0:00:01\r\u001b[K     |███████████████████▌            | 1.6MB 27.8MB/s eta 0:00:01\r\u001b[K     |███████████████████▊            | 1.6MB 27.8MB/s eta 0:00:01\r\u001b[K     |███████████████████▉            | 1.6MB 27.8MB/s eta 0:00:01\r\u001b[K     |████████████████████            | 1.6MB 27.8MB/s eta 0:00:01\r\u001b[K     |████████████████████            | 1.6MB 27.8MB/s eta 0:00:01\r\u001b[K     |████████████████████▏           | 1.6MB 27.8MB/s eta 0:00:01\r\u001b[K     |████████████████████▎           | 1.6MB 27.8MB/s eta 0:00:01\r\u001b[K     |████████████████████▍           | 1.7MB 27.8MB/s eta 0:00:01\r\u001b[K     |████████████████████▌           | 1.7MB 27.8MB/s eta 0:00:01\r\u001b[K     |████████████████████▊           | 1.7MB 27.8MB/s eta 0:00:01\r\u001b[K     |████████████████████▉           | 1.7MB 27.8MB/s eta 0:00:01\r\u001b[K     |█████████████████████           | 1.7MB 27.8MB/s eta 0:00:01\r\u001b[K     |█████████████████████           | 1.7MB 27.8MB/s eta 0:00:01\r\u001b[K     |█████████████████████▏          | 1.7MB 27.8MB/s eta 0:00:01\r\u001b[K     |█████████████████████▎          | 1.7MB 27.8MB/s eta 0:00:01\r\u001b[K     |█████████████████████▍          | 1.7MB 27.8MB/s eta 0:00:01\r\u001b[K     |█████████████████████▋          | 1.8MB 27.8MB/s eta 0:00:01\r\u001b[K     |█████████████████████▊          | 1.8MB 27.8MB/s eta 0:00:01\r\u001b[K     |█████████████████████▉          | 1.8MB 27.8MB/s eta 0:00:01\r\u001b[K     |██████████████████████          | 1.8MB 27.8MB/s eta 0:00:01\r\u001b[K     |██████████████████████          | 1.8MB 27.8MB/s eta 0:00:01\r\u001b[K     |██████████████████████▏         | 1.8MB 27.8MB/s eta 0:00:01\r\u001b[K     |██████████████████████▎         | 1.8MB 27.8MB/s eta 0:00:01\r\u001b[K     |██████████████████████▌         | 1.8MB 27.8MB/s eta 0:00:01\r\u001b[K     |██████████████████████▋         | 1.8MB 27.8MB/s eta 0:00:01\r\u001b[K     |██████████████████████▊         | 1.8MB 27.8MB/s eta 0:00:01\r\u001b[K     |██████████████████████▉         | 1.9MB 27.8MB/s eta 0:00:01\r\u001b[K     |███████████████████████         | 1.9MB 27.8MB/s eta 0:00:01\r\u001b[K     |███████████████████████         | 1.9MB 27.8MB/s eta 0:00:01\r\u001b[K     |███████████████████████▏        | 1.9MB 27.8MB/s eta 0:00:01\r\u001b[K     |███████████████████████▎        | 1.9MB 27.8MB/s eta 0:00:01\r\u001b[K     |███████████████████████▌        | 1.9MB 27.8MB/s eta 0:00:01\r\u001b[K     |███████████████████████▋        | 1.9MB 27.8MB/s eta 0:00:01\r\u001b[K     |███████████████████████▊        | 1.9MB 27.8MB/s eta 0:00:01\r\u001b[K     |███████████████████████▉        | 1.9MB 27.8MB/s eta 0:00:01\r\u001b[K     |████████████████████████        | 1.9MB 27.8MB/s eta 0:00:01\r\u001b[K     |████████████████████████        | 2.0MB 27.8MB/s eta 0:00:01\r\u001b[K     |████████████████████████▏       | 2.0MB 27.8MB/s eta 0:00:01\r\u001b[K     |████████████████████████▍       | 2.0MB 27.8MB/s eta 0:00:01\r\u001b[K     |████████████████████████▌       | 2.0MB 27.8MB/s eta 0:00:01\r\u001b[K     |████████████████████████▋       | 2.0MB 27.8MB/s eta 0:00:01\r\u001b[K     |████████████████████████▊       | 2.0MB 27.8MB/s eta 0:00:01\r\u001b[K     |████████████████████████▉       | 2.0MB 27.8MB/s eta 0:00:01\r\u001b[K     |█████████████████████████       | 2.0MB 27.8MB/s eta 0:00:01\r\u001b[K     |█████████████████████████       | 2.0MB 27.8MB/s eta 0:00:01\r\u001b[K     |█████████████████████████▏      | 2.0MB 27.8MB/s eta 0:00:01\r\u001b[K     |█████████████████████████▍      | 2.1MB 27.8MB/s eta 0:00:01\r\u001b[K     |█████████████████████████▌      | 2.1MB 27.8MB/s eta 0:00:01\r\u001b[K     |█████████████████████████▋      | 2.1MB 27.8MB/s eta 0:00:01\r\u001b[K     |█████████████████████████▊      | 2.1MB 27.8MB/s eta 0:00:01\r\u001b[K     |█████████████████████████▉      | 2.1MB 27.8MB/s eta 0:00:01\r\u001b[K     |██████████████████████████      | 2.1MB 27.8MB/s eta 0:00:01\r\u001b[K     |██████████████████████████      | 2.1MB 27.8MB/s eta 0:00:01\r\u001b[K     |██████████████████████████▎     | 2.1MB 27.8MB/s eta 0:00:01\r\u001b[K     |██████████████████████████▍     | 2.1MB 27.8MB/s eta 0:00:01\r\u001b[K     |██████████████████████████▌     | 2.2MB 27.8MB/s eta 0:00:01\r\u001b[K     |██████████████████████████▋     | 2.2MB 27.8MB/s eta 0:00:01\r\u001b[K     |██████████████████████████▊     | 2.2MB 27.8MB/s eta 0:00:01\r\u001b[K     |██████████████████████████▉     | 2.2MB 27.8MB/s eta 0:00:01\r\u001b[K     |███████████████████████████     | 2.2MB 27.8MB/s eta 0:00:01\r\u001b[K     |███████████████████████████▏    | 2.2MB 27.8MB/s eta 0:00:01\r\u001b[K     |███████████████████████████▎    | 2.2MB 27.8MB/s eta 0:00:01\r\u001b[K     |███████████████████████████▍    | 2.2MB 27.8MB/s eta 0:00:01\r\u001b[K     |███████████████████████████▌    | 2.2MB 27.8MB/s eta 0:00:01\r\u001b[K     |███████████████████████████▋    | 2.2MB 27.8MB/s eta 0:00:01\r\u001b[K     |███████████████████████████▊    | 2.3MB 27.8MB/s eta 0:00:01\r\u001b[K     |███████████████████████████▉    | 2.3MB 27.8MB/s eta 0:00:01\r\u001b[K     |████████████████████████████    | 2.3MB 27.8MB/s eta 0:00:01\r\u001b[K     |████████████████████████████▏   | 2.3MB 27.8MB/s eta 0:00:01\r\u001b[K     |████████████████████████████▎   | 2.3MB 27.8MB/s eta 0:00:01\r\u001b[K     |████████████████████████████▍   | 2.3MB 27.8MB/s eta 0:00:01\r\u001b[K     |████████████████████████████▌   | 2.3MB 27.8MB/s eta 0:00:01\r\u001b[K     |████████████████████████████▋   | 2.3MB 27.8MB/s eta 0:00:01\r\u001b[K     |████████████████████████████▊   | 2.3MB 27.8MB/s eta 0:00:01\r\u001b[K     |████████████████████████████▉   | 2.3MB 27.8MB/s eta 0:00:01\r\u001b[K     |█████████████████████████████   | 2.4MB 27.8MB/s eta 0:00:01\r\u001b[K     |█████████████████████████████▏  | 2.4MB 27.8MB/s eta 0:00:01\r\u001b[K     |█████████████████████████████▎  | 2.4MB 27.8MB/s eta 0:00:01\r\u001b[K     |█████████████████████████████▍  | 2.4MB 27.8MB/s eta 0:00:01\r\u001b[K     |█████████████████████████████▌  | 2.4MB 27.8MB/s eta 0:00:01\r\u001b[K     |█████████████████████████████▋  | 2.4MB 27.8MB/s eta 0:00:01\r\u001b[K     |█████████████████████████████▊  | 2.4MB 27.8MB/s eta 0:00:01\r\u001b[K     |█████████████████████████████▉  | 2.4MB 27.8MB/s eta 0:00:01\r\u001b[K     |██████████████████████████████  | 2.4MB 27.8MB/s eta 0:00:01\r\u001b[K     |██████████████████████████████▏ | 2.4MB 27.8MB/s eta 0:00:01\r\u001b[K     |██████████████████████████████▎ | 2.5MB 27.8MB/s eta 0:00:01\r\u001b[K     |██████████████████████████████▍ | 2.5MB 27.8MB/s eta 0:00:01\r\u001b[K     |██████████████████████████████▌ | 2.5MB 27.8MB/s eta 0:00:01\r\u001b[K     |██████████████████████████████▋ | 2.5MB 27.8MB/s eta 0:00:01\r\u001b[K     |██████████████████████████████▊ | 2.5MB 27.8MB/s eta 0:00:01\r\u001b[K     |███████████████████████████████ | 2.5MB 27.8MB/s eta 0:00:01\r\u001b[K     |███████████████████████████████ | 2.5MB 27.8MB/s eta 0:00:01\r\u001b[K     |███████████████████████████████▏| 2.5MB 27.8MB/s eta 0:00:01\r\u001b[K     |███████████████████████████████▎| 2.5MB 27.8MB/s eta 0:00:01\r\u001b[K     |███████████████████████████████▍| 2.5MB 27.8MB/s eta 0:00:01\r\u001b[K     |███████████████████████████████▌| 2.6MB 27.8MB/s eta 0:00:01\r\u001b[K     |███████████████████████████████▋| 2.6MB 27.8MB/s eta 0:00:01\r\u001b[K     |███████████████████████████████▉| 2.6MB 27.8MB/s eta 0:00:01\r\u001b[K     |████████████████████████████████| 2.6MB 27.8MB/s eta 0:00:01\r\u001b[K     |████████████████████████████████| 2.6MB 27.8MB/s \n",
            "\u001b[?25hRequirement already satisfied: networkx in /usr/local/lib/python3.7/dist-packages (from BlackBoxAuditing) (2.5.1)\n",
            "Requirement already satisfied: matplotlib in /usr/local/lib/python3.7/dist-packages (from BlackBoxAuditing) (3.2.2)\n",
            "Requirement already satisfied: pandas in /usr/local/lib/python3.7/dist-packages (from BlackBoxAuditing) (1.1.5)\n",
            "Requirement already satisfied: numpy in /usr/local/lib/python3.7/dist-packages (from BlackBoxAuditing) (1.19.5)\n",
            "Requirement already satisfied: decorator<5,>=4.3 in /usr/local/lib/python3.7/dist-packages (from networkx->BlackBoxAuditing) (4.4.2)\n",
            "Requirement already satisfied: cycler>=0.10 in /usr/local/lib/python3.7/dist-packages (from matplotlib->BlackBoxAuditing) (0.10.0)\n",
            "Requirement already satisfied: pyparsing!=2.0.4,!=2.1.2,!=2.1.6,>=2.0.1 in /usr/local/lib/python3.7/dist-packages (from matplotlib->BlackBoxAuditing) (2.4.7)\n",
            "Requirement already satisfied: python-dateutil>=2.1 in /usr/local/lib/python3.7/dist-packages (from matplotlib->BlackBoxAuditing) (2.8.1)\n",
            "Requirement already satisfied: kiwisolver>=1.0.1 in /usr/local/lib/python3.7/dist-packages (from matplotlib->BlackBoxAuditing) (1.3.1)\n",
            "Requirement already satisfied: pytz>=2017.2 in /usr/local/lib/python3.7/dist-packages (from pandas->BlackBoxAuditing) (2018.9)\n",
            "Requirement already satisfied: six in /usr/local/lib/python3.7/dist-packages (from cycler>=0.10->matplotlib->BlackBoxAuditing) (1.15.0)\n",
            "Building wheels for collected packages: BlackBoxAuditing\n",
            "  Building wheel for BlackBoxAuditing (setup.py) ... \u001b[?25l\u001b[?25hdone\n",
            "  Created wheel for BlackBoxAuditing: filename=BlackBoxAuditing-0.1.54-py2.py3-none-any.whl size=1394770 sha256=7fd8ffeb521dd7cc465fa1bd3e3a35c6d6d64c8e969217d819424fb1f727a96d\n",
            "  Stored in directory: /root/.cache/pip/wheels/66/82/7b/ac2a79b8caf97e15ed415162a7f272cbba1e2e2c851fa76ae3\n",
            "Successfully built BlackBoxAuditing\n",
            "Installing collected packages: BlackBoxAuditing\n",
            "Successfully installed BlackBoxAuditing-0.1.54\n"
          ],
          "name": "stdout"
        }
      ]
    },
    {
      "cell_type": "code",
      "metadata": {
        "id": "OhVVgD3HjtGZ",
        "colab": {
          "base_uri": "https://localhost:8080/",
          "height": 456
        },
        "outputId": "07d4ab1b-bde3-4b34-bbeb-2d706fdeb94b"
      },
      "source": [
        "import aif360\n",
        "from aif360.algorithms.preprocessing import DisparateImpactRemover\n",
        "# binaryLabelDataset = aif360.datasets.BinaryLabelDataset(\n",
        "#     df=yourDataFrameHere,\n",
        "#     label_names=['yourOutcomeLabelHere'],\n",
        "#     protected_attribute_names=['yourProtectedClassHere'])\n",
        "# Must be a binaryLabelDataset\n",
        "binaryLabelDataset = aif360.datasets.BinaryLabelDataset(\n",
        "    favorable_label=1,\n",
        "    unfavorable_label=0,\n",
        "    df=encoded_df,\n",
        "    label_names=['Loan_Status'],\n",
        "    protected_attribute_names=['Gender'])\n",
        "di = DisparateImpactRemover(repair_level = 1.0) # require !pip install BlackBoxAuditing\n",
        "dataset_transf_train = di.fit_transform(binaryLabelDataset)\n",
        "transformed = dataset_transf_train.convert_to_dataframe()[0] #converted to dataframe\n",
        "transformed"
      ],
      "execution_count": 108,
      "outputs": [
        {
          "output_type": "execute_result",
          "data": {
            "text/html": [
              "<div>\n",
              "<style scoped>\n",
              "    .dataframe tbody tr th:only-of-type {\n",
              "        vertical-align: middle;\n",
              "    }\n",
              "\n",
              "    .dataframe tbody tr th {\n",
              "        vertical-align: top;\n",
              "    }\n",
              "\n",
              "    .dataframe thead th {\n",
              "        text-align: right;\n",
              "    }\n",
              "</style>\n",
              "<table border=\"1\" class=\"dataframe\">\n",
              "  <thead>\n",
              "    <tr style=\"text-align: right;\">\n",
              "      <th></th>\n",
              "      <th>Gender</th>\n",
              "      <th>ApplicantIncome</th>\n",
              "      <th>CoapplicantIncome</th>\n",
              "      <th>LoanAmount</th>\n",
              "      <th>Loan_Amount_Term</th>\n",
              "      <th>Credit_History</th>\n",
              "      <th>Property_Area_Rural</th>\n",
              "      <th>Property_Area_Semiurban</th>\n",
              "      <th>Property_Area_Urban</th>\n",
              "      <th>Married_No</th>\n",
              "      <th>Married_Yes</th>\n",
              "      <th>Dependents_0</th>\n",
              "      <th>Dependents_1</th>\n",
              "      <th>Dependents_2</th>\n",
              "      <th>Dependents_3+</th>\n",
              "      <th>Education_Graduate</th>\n",
              "      <th>Education_Not Graduate</th>\n",
              "      <th>Self_Employed_No</th>\n",
              "      <th>Self_Employed_Yes</th>\n",
              "      <th>Loan_Status</th>\n",
              "    </tr>\n",
              "  </thead>\n",
              "  <tbody>\n",
              "    <tr>\n",
              "      <th>1</th>\n",
              "      <td>1.0</td>\n",
              "      <td>3958.0</td>\n",
              "      <td>1483.0</td>\n",
              "      <td>108.0</td>\n",
              "      <td>360.0</td>\n",
              "      <td>1.0</td>\n",
              "      <td>1.0</td>\n",
              "      <td>0.0</td>\n",
              "      <td>0.0</td>\n",
              "      <td>0.0</td>\n",
              "      <td>1.0</td>\n",
              "      <td>0.0</td>\n",
              "      <td>1.0</td>\n",
              "      <td>0.0</td>\n",
              "      <td>0.0</td>\n",
              "      <td>1.0</td>\n",
              "      <td>0.0</td>\n",
              "      <td>1.0</td>\n",
              "      <td>0.0</td>\n",
              "      <td>0.0</td>\n",
              "    </tr>\n",
              "    <tr>\n",
              "      <th>2</th>\n",
              "      <td>1.0</td>\n",
              "      <td>2600.0</td>\n",
              "      <td>0.0</td>\n",
              "      <td>59.0</td>\n",
              "      <td>360.0</td>\n",
              "      <td>1.0</td>\n",
              "      <td>0.0</td>\n",
              "      <td>0.0</td>\n",
              "      <td>1.0</td>\n",
              "      <td>0.0</td>\n",
              "      <td>1.0</td>\n",
              "      <td>1.0</td>\n",
              "      <td>0.0</td>\n",
              "      <td>0.0</td>\n",
              "      <td>0.0</td>\n",
              "      <td>1.0</td>\n",
              "      <td>0.0</td>\n",
              "      <td>0.0</td>\n",
              "      <td>1.0</td>\n",
              "      <td>1.0</td>\n",
              "    </tr>\n",
              "    <tr>\n",
              "      <th>3</th>\n",
              "      <td>1.0</td>\n",
              "      <td>2241.0</td>\n",
              "      <td>2333.0</td>\n",
              "      <td>102.0</td>\n",
              "      <td>360.0</td>\n",
              "      <td>1.0</td>\n",
              "      <td>0.0</td>\n",
              "      <td>0.0</td>\n",
              "      <td>1.0</td>\n",
              "      <td>0.0</td>\n",
              "      <td>1.0</td>\n",
              "      <td>1.0</td>\n",
              "      <td>0.0</td>\n",
              "      <td>0.0</td>\n",
              "      <td>0.0</td>\n",
              "      <td>0.0</td>\n",
              "      <td>1.0</td>\n",
              "      <td>1.0</td>\n",
              "      <td>0.0</td>\n",
              "      <td>1.0</td>\n",
              "    </tr>\n",
              "    <tr>\n",
              "      <th>4</th>\n",
              "      <td>1.0</td>\n",
              "      <td>4723.0</td>\n",
              "      <td>0.0</td>\n",
              "      <td>115.0</td>\n",
              "      <td>360.0</td>\n",
              "      <td>1.0</td>\n",
              "      <td>0.0</td>\n",
              "      <td>0.0</td>\n",
              "      <td>1.0</td>\n",
              "      <td>1.0</td>\n",
              "      <td>0.0</td>\n",
              "      <td>1.0</td>\n",
              "      <td>0.0</td>\n",
              "      <td>0.0</td>\n",
              "      <td>0.0</td>\n",
              "      <td>1.0</td>\n",
              "      <td>0.0</td>\n",
              "      <td>1.0</td>\n",
              "      <td>0.0</td>\n",
              "      <td>1.0</td>\n",
              "    </tr>\n",
              "    <tr>\n",
              "      <th>5</th>\n",
              "      <td>1.0</td>\n",
              "      <td>4402.0</td>\n",
              "      <td>3683.0</td>\n",
              "      <td>189.0</td>\n",
              "      <td>360.0</td>\n",
              "      <td>1.0</td>\n",
              "      <td>0.0</td>\n",
              "      <td>0.0</td>\n",
              "      <td>1.0</td>\n",
              "      <td>0.0</td>\n",
              "      <td>1.0</td>\n",
              "      <td>0.0</td>\n",
              "      <td>0.0</td>\n",
              "      <td>1.0</td>\n",
              "      <td>0.0</td>\n",
              "      <td>1.0</td>\n",
              "      <td>0.0</td>\n",
              "      <td>0.0</td>\n",
              "      <td>1.0</td>\n",
              "      <td>1.0</td>\n",
              "    </tr>\n",
              "    <tr>\n",
              "      <th>...</th>\n",
              "      <td>...</td>\n",
              "      <td>...</td>\n",
              "      <td>...</td>\n",
              "      <td>...</td>\n",
              "      <td>...</td>\n",
              "      <td>...</td>\n",
              "      <td>...</td>\n",
              "      <td>...</td>\n",
              "      <td>...</td>\n",
              "      <td>...</td>\n",
              "      <td>...</td>\n",
              "      <td>...</td>\n",
              "      <td>...</td>\n",
              "      <td>...</td>\n",
              "      <td>...</td>\n",
              "      <td>...</td>\n",
              "      <td>...</td>\n",
              "      <td>...</td>\n",
              "      <td>...</td>\n",
              "      <td>...</td>\n",
              "    </tr>\n",
              "    <tr>\n",
              "      <th>975</th>\n",
              "      <td>1.0</td>\n",
              "      <td>2101.0</td>\n",
              "      <td>2183.0</td>\n",
              "      <td>79.0</td>\n",
              "      <td>360.0</td>\n",
              "      <td>1.0</td>\n",
              "      <td>0.0</td>\n",
              "      <td>1.0</td>\n",
              "      <td>0.0</td>\n",
              "      <td>0.0</td>\n",
              "      <td>1.0</td>\n",
              "      <td>0.0</td>\n",
              "      <td>1.0</td>\n",
              "      <td>0.0</td>\n",
              "      <td>0.0</td>\n",
              "      <td>1.0</td>\n",
              "      <td>0.0</td>\n",
              "      <td>1.0</td>\n",
              "      <td>0.0</td>\n",
              "      <td>1.0</td>\n",
              "    </tr>\n",
              "    <tr>\n",
              "      <th>976</th>\n",
              "      <td>1.0</td>\n",
              "      <td>3719.0</td>\n",
              "      <td>1762.0</td>\n",
              "      <td>94.0</td>\n",
              "      <td>360.0</td>\n",
              "      <td>1.0</td>\n",
              "      <td>0.0</td>\n",
              "      <td>0.0</td>\n",
              "      <td>1.0</td>\n",
              "      <td>0.0</td>\n",
              "      <td>1.0</td>\n",
              "      <td>0.0</td>\n",
              "      <td>0.0</td>\n",
              "      <td>0.0</td>\n",
              "      <td>1.0</td>\n",
              "      <td>0.0</td>\n",
              "      <td>1.0</td>\n",
              "      <td>0.0</td>\n",
              "      <td>1.0</td>\n",
              "      <td>1.0</td>\n",
              "    </tr>\n",
              "    <tr>\n",
              "      <th>977</th>\n",
              "      <td>1.0</td>\n",
              "      <td>3762.0</td>\n",
              "      <td>717.0</td>\n",
              "      <td>95.0</td>\n",
              "      <td>360.0</td>\n",
              "      <td>1.0</td>\n",
              "      <td>0.0</td>\n",
              "      <td>0.0</td>\n",
              "      <td>1.0</td>\n",
              "      <td>0.0</td>\n",
              "      <td>1.0</td>\n",
              "      <td>1.0</td>\n",
              "      <td>0.0</td>\n",
              "      <td>0.0</td>\n",
              "      <td>0.0</td>\n",
              "      <td>1.0</td>\n",
              "      <td>0.0</td>\n",
              "      <td>1.0</td>\n",
              "      <td>0.0</td>\n",
              "      <td>1.0</td>\n",
              "    </tr>\n",
              "    <tr>\n",
              "      <th>979</th>\n",
              "      <td>1.0</td>\n",
              "      <td>4230.0</td>\n",
              "      <td>2333.0</td>\n",
              "      <td>130.0</td>\n",
              "      <td>360.0</td>\n",
              "      <td>1.0</td>\n",
              "      <td>1.0</td>\n",
              "      <td>0.0</td>\n",
              "      <td>0.0</td>\n",
              "      <td>0.0</td>\n",
              "      <td>1.0</td>\n",
              "      <td>1.0</td>\n",
              "      <td>0.0</td>\n",
              "      <td>0.0</td>\n",
              "      <td>0.0</td>\n",
              "      <td>1.0</td>\n",
              "      <td>0.0</td>\n",
              "      <td>1.0</td>\n",
              "      <td>0.0</td>\n",
              "      <td>0.0</td>\n",
              "    </tr>\n",
              "    <tr>\n",
              "      <th>980</th>\n",
              "      <td>1.0</td>\n",
              "      <td>8624.0</td>\n",
              "      <td>0.0</td>\n",
              "      <td>79.0</td>\n",
              "      <td>180.0</td>\n",
              "      <td>1.0</td>\n",
              "      <td>1.0</td>\n",
              "      <td>0.0</td>\n",
              "      <td>0.0</td>\n",
              "      <td>1.0</td>\n",
              "      <td>0.0</td>\n",
              "      <td>1.0</td>\n",
              "      <td>0.0</td>\n",
              "      <td>0.0</td>\n",
              "      <td>0.0</td>\n",
              "      <td>1.0</td>\n",
              "      <td>0.0</td>\n",
              "      <td>0.0</td>\n",
              "      <td>1.0</td>\n",
              "      <td>1.0</td>\n",
              "    </tr>\n",
              "  </tbody>\n",
              "</table>\n",
              "<p>769 rows × 20 columns</p>\n",
              "</div>"
            ],
            "text/plain": [
              "     Gender  ApplicantIncome  ...  Self_Employed_Yes  Loan_Status\n",
              "1       1.0           3958.0  ...                0.0          0.0\n",
              "2       1.0           2600.0  ...                1.0          1.0\n",
              "3       1.0           2241.0  ...                0.0          1.0\n",
              "4       1.0           4723.0  ...                0.0          1.0\n",
              "5       1.0           4402.0  ...                1.0          1.0\n",
              "..      ...              ...  ...                ...          ...\n",
              "975     1.0           2101.0  ...                0.0          1.0\n",
              "976     1.0           3719.0  ...                1.0          1.0\n",
              "977     1.0           3762.0  ...                0.0          1.0\n",
              "979     1.0           4230.0  ...                0.0          0.0\n",
              "980     1.0           8624.0  ...                1.0          1.0\n",
              "\n",
              "[769 rows x 20 columns]"
            ]
          },
          "metadata": {
            "tags": []
          },
          "execution_count": 108
        }
      ]
    },
    {
      "cell_type": "markdown",
      "metadata": {
        "id": "b_S7IucIjtGZ"
      },
      "source": [
        "### Train a model using the dataset that underwent the pre-processing"
      ]
    },
    {
      "cell_type": "code",
      "metadata": {
        "id": "a1lxJvZvjtGZ"
      },
      "source": [
        "x_trans = transformed.drop(['Loan_Status'], axis = 1)\n",
        "y = transformed['Loan_Status']\n",
        "\n",
        "# Liblinear is a solver that is effective for relatively smaller datasets.\n",
        "model = LogisticRegression(solver='liblinear', class_weight='balanced')\n",
        "scaler = StandardScaler()\n",
        "data_std = scaler.fit_transform(x_trans)\n",
        "\n",
        "# Splitting into test and training\n",
        "# We will follow an 80-20 split pattern for our training and test data\n",
        "x_trans_train,x_trans_test,y_trans_train,y_trans_test = train_test_split(x_trans, y, test_size=0.2, random_state = 0)"
      ],
      "execution_count": 111,
      "outputs": []
    },
    {
      "cell_type": "code",
      "metadata": {
        "id": "o_smZbdSjtGa",
        "colab": {
          "base_uri": "https://localhost:8080/"
        },
        "outputId": "c15a12d9-b5b1-42a8-ef90-70b41de2202b"
      },
      "source": [
        "model.fit(x_trans_train, y_trans_train)"
      ],
      "execution_count": 112,
      "outputs": [
        {
          "output_type": "execute_result",
          "data": {
            "text/plain": [
              "LogisticRegression(C=1.0, class_weight='balanced', dual=False,\n",
              "                   fit_intercept=True, intercept_scaling=1, l1_ratio=None,\n",
              "                   max_iter=100, multi_class='auto', n_jobs=None, penalty='l2',\n",
              "                   random_state=None, solver='liblinear', tol=0.0001, verbose=0,\n",
              "                   warm_start=False)"
            ]
          },
          "metadata": {
            "tags": []
          },
          "execution_count": 112
        }
      ]
    },
    {
      "cell_type": "markdown",
      "metadata": {
        "id": "iqytfW2XjtGa"
      },
      "source": [
        "### Evaluating performance"
      ]
    },
    {
      "cell_type": "code",
      "metadata": {
        "id": "dpWntKdqjtGa",
        "colab": {
          "base_uri": "https://localhost:8080/",
          "height": 204
        },
        "outputId": "f0009780-bd7a-4284-d15f-16982e3b5c2d"
      },
      "source": [
        "# See how well it predicted with a couple values\n",
        "y_trans_pred = pd.Series(model.predict(x_trans_test))\n",
        "y_trans_test = y_trans_test.reset_index(drop=True)\n",
        "z = pd.concat([y_trans_test, y_trans_pred], axis=1)\n",
        "z.columns = ['True', 'Prediction']\n",
        "z.head()\n",
        "# Again, it predicts 4/5 correctly in this sample"
      ],
      "execution_count": 113,
      "outputs": [
        {
          "output_type": "execute_result",
          "data": {
            "text/html": [
              "<div>\n",
              "<style scoped>\n",
              "    .dataframe tbody tr th:only-of-type {\n",
              "        vertical-align: middle;\n",
              "    }\n",
              "\n",
              "    .dataframe tbody tr th {\n",
              "        vertical-align: top;\n",
              "    }\n",
              "\n",
              "    .dataframe thead th {\n",
              "        text-align: right;\n",
              "    }\n",
              "</style>\n",
              "<table border=\"1\" class=\"dataframe\">\n",
              "  <thead>\n",
              "    <tr style=\"text-align: right;\">\n",
              "      <th></th>\n",
              "      <th>True</th>\n",
              "      <th>Prediction</th>\n",
              "    </tr>\n",
              "  </thead>\n",
              "  <tbody>\n",
              "    <tr>\n",
              "      <th>0</th>\n",
              "      <td>1.0</td>\n",
              "      <td>1.0</td>\n",
              "    </tr>\n",
              "    <tr>\n",
              "      <th>1</th>\n",
              "      <td>1.0</td>\n",
              "      <td>1.0</td>\n",
              "    </tr>\n",
              "    <tr>\n",
              "      <th>2</th>\n",
              "      <td>0.0</td>\n",
              "      <td>0.0</td>\n",
              "    </tr>\n",
              "    <tr>\n",
              "      <th>3</th>\n",
              "      <td>0.0</td>\n",
              "      <td>0.0</td>\n",
              "    </tr>\n",
              "    <tr>\n",
              "      <th>4</th>\n",
              "      <td>0.0</td>\n",
              "      <td>1.0</td>\n",
              "    </tr>\n",
              "  </tbody>\n",
              "</table>\n",
              "</div>"
            ],
            "text/plain": [
              "   True  Prediction\n",
              "0   1.0         1.0\n",
              "1   1.0         1.0\n",
              "2   0.0         0.0\n",
              "3   0.0         0.0\n",
              "4   0.0         1.0"
            ]
          },
          "metadata": {
            "tags": []
          },
          "execution_count": 113
        }
      ]
    },
    {
      "cell_type": "code",
      "metadata": {
        "colab": {
          "base_uri": "https://localhost:8080/"
        },
        "id": "GxCw8w1GbhGu",
        "outputId": "c5c16bfb-496e-48ae-ef29-f8f1f85a3ed9"
      },
      "source": [
        "print(y_test.dtype)\n",
        "print(y_trans_pred.dtype)"
      ],
      "execution_count": 116,
      "outputs": [
        {
          "output_type": "stream",
          "text": [
            "object\n",
            "float64\n"
          ],
          "name": "stdout"
        }
      ]
    },
    {
      "cell_type": "code",
      "metadata": {
        "id": "4CX24yDIjtGb",
        "colab": {
          "base_uri": "https://localhost:8080/"
        },
        "outputId": "7b0a1b97-8526-4043-a6f7-b87122eeaab6"
      },
      "source": [
        "print(\"Accuracy:\", metrics.accuracy_score(y_test.astype('float'), y_trans_pred))\n",
        "print(\"Precision:\", metrics.precision_score(y_test.astype('float'), y_trans_pred))\n",
        "print(\"Recall:\", metrics.recall_score(y_test.astype('float'), y_trans_pred))"
      ],
      "execution_count": 117,
      "outputs": [
        {
          "output_type": "stream",
          "text": [
            "Accuracy: 0.8246753246753247\n",
            "Precision: 0.8846153846153846\n",
            "Recall: 0.8598130841121495\n"
          ],
          "name": "stdout"
        }
      ]
    },
    {
      "cell_type": "markdown",
      "metadata": {
        "id": "_WoEu9pxjtGb"
      },
      "source": [
        "### Calculating disparate impact on predicted values by model trained on transformed dataset"
      ]
    },
    {
      "cell_type": "code",
      "metadata": {
        "id": "LbDg4tXZjtGb",
        "colab": {
          "base_uri": "https://localhost:8080/",
          "height": 456
        },
        "outputId": "bd1426e8-4c3c-41af-cd7d-a776bf2a6787"
      },
      "source": [
        "# We now need to add this array into x_test as a column for when we calculate the fairness metrics.\n",
        "y_trans_pred = model.predict(x_trans_test)\n",
        "x_trans_test['Loan_Status_Predicted'] = y_trans_pred\n",
        "transformed_output = x_trans_test\n",
        "\n",
        "#x_trans_test.drop(['Loan_Status_Predicted'], axis=1, inplace=True)\n",
        "transformed_output"
      ],
      "execution_count": 118,
      "outputs": [
        {
          "output_type": "execute_result",
          "data": {
            "text/html": [
              "<div>\n",
              "<style scoped>\n",
              "    .dataframe tbody tr th:only-of-type {\n",
              "        vertical-align: middle;\n",
              "    }\n",
              "\n",
              "    .dataframe tbody tr th {\n",
              "        vertical-align: top;\n",
              "    }\n",
              "\n",
              "    .dataframe thead th {\n",
              "        text-align: right;\n",
              "    }\n",
              "</style>\n",
              "<table border=\"1\" class=\"dataframe\">\n",
              "  <thead>\n",
              "    <tr style=\"text-align: right;\">\n",
              "      <th></th>\n",
              "      <th>Gender</th>\n",
              "      <th>ApplicantIncome</th>\n",
              "      <th>CoapplicantIncome</th>\n",
              "      <th>LoanAmount</th>\n",
              "      <th>Loan_Amount_Term</th>\n",
              "      <th>Credit_History</th>\n",
              "      <th>Property_Area_Rural</th>\n",
              "      <th>Property_Area_Semiurban</th>\n",
              "      <th>Property_Area_Urban</th>\n",
              "      <th>Married_No</th>\n",
              "      <th>Married_Yes</th>\n",
              "      <th>Dependents_0</th>\n",
              "      <th>Dependents_1</th>\n",
              "      <th>Dependents_2</th>\n",
              "      <th>Dependents_3+</th>\n",
              "      <th>Education_Graduate</th>\n",
              "      <th>Education_Not Graduate</th>\n",
              "      <th>Self_Employed_No</th>\n",
              "      <th>Self_Employed_Yes</th>\n",
              "      <th>Loan_Status_Predicted</th>\n",
              "    </tr>\n",
              "  </thead>\n",
              "  <tbody>\n",
              "    <tr>\n",
              "      <th>840</th>\n",
              "      <td>1.0</td>\n",
              "      <td>2226.0</td>\n",
              "      <td>1742.0</td>\n",
              "      <td>81.0</td>\n",
              "      <td>360.0</td>\n",
              "      <td>1.0</td>\n",
              "      <td>0.0</td>\n",
              "      <td>0.0</td>\n",
              "      <td>1.0</td>\n",
              "      <td>0.0</td>\n",
              "      <td>1.0</td>\n",
              "      <td>1.0</td>\n",
              "      <td>0.0</td>\n",
              "      <td>0.0</td>\n",
              "      <td>0.0</td>\n",
              "      <td>1.0</td>\n",
              "      <td>0.0</td>\n",
              "      <td>1.0</td>\n",
              "      <td>0.0</td>\n",
              "      <td>1.0</td>\n",
              "    </tr>\n",
              "    <tr>\n",
              "      <th>159</th>\n",
              "      <td>1.0</td>\n",
              "      <td>3958.0</td>\n",
              "      <td>5105.0</td>\n",
              "      <td>185.0</td>\n",
              "      <td>360.0</td>\n",
              "      <td>1.0</td>\n",
              "      <td>0.0</td>\n",
              "      <td>1.0</td>\n",
              "      <td>0.0</td>\n",
              "      <td>0.0</td>\n",
              "      <td>1.0</td>\n",
              "      <td>1.0</td>\n",
              "      <td>0.0</td>\n",
              "      <td>0.0</td>\n",
              "      <td>0.0</td>\n",
              "      <td>1.0</td>\n",
              "      <td>0.0</td>\n",
              "      <td>1.0</td>\n",
              "      <td>0.0</td>\n",
              "      <td>1.0</td>\n",
              "    </tr>\n",
              "    <tr>\n",
              "      <th>148</th>\n",
              "      <td>0.0</td>\n",
              "      <td>9504.0</td>\n",
              "      <td>1646.0</td>\n",
              "      <td>225.0</td>\n",
              "      <td>300.0</td>\n",
              "      <td>1.0</td>\n",
              "      <td>1.0</td>\n",
              "      <td>0.0</td>\n",
              "      <td>0.0</td>\n",
              "      <td>1.0</td>\n",
              "      <td>0.0</td>\n",
              "      <td>1.0</td>\n",
              "      <td>0.0</td>\n",
              "      <td>0.0</td>\n",
              "      <td>0.0</td>\n",
              "      <td>1.0</td>\n",
              "      <td>0.0</td>\n",
              "      <td>1.0</td>\n",
              "      <td>0.0</td>\n",
              "      <td>0.0</td>\n",
              "    </tr>\n",
              "    <tr>\n",
              "      <th>17</th>\n",
              "      <td>0.0</td>\n",
              "      <td>3510.0</td>\n",
              "      <td>0.0</td>\n",
              "      <td>76.0</td>\n",
              "      <td>300.0</td>\n",
              "      <td>0.0</td>\n",
              "      <td>0.0</td>\n",
              "      <td>0.0</td>\n",
              "      <td>1.0</td>\n",
              "      <td>1.0</td>\n",
              "      <td>0.0</td>\n",
              "      <td>1.0</td>\n",
              "      <td>0.0</td>\n",
              "      <td>0.0</td>\n",
              "      <td>0.0</td>\n",
              "      <td>1.0</td>\n",
              "      <td>0.0</td>\n",
              "      <td>1.0</td>\n",
              "      <td>0.0</td>\n",
              "      <td>0.0</td>\n",
              "    </tr>\n",
              "    <tr>\n",
              "      <th>808</th>\n",
              "      <td>1.0</td>\n",
              "      <td>10000.0</td>\n",
              "      <td>2541.0</td>\n",
              "      <td>300.0</td>\n",
              "      <td>360.0</td>\n",
              "      <td>1.0</td>\n",
              "      <td>0.0</td>\n",
              "      <td>1.0</td>\n",
              "      <td>0.0</td>\n",
              "      <td>0.0</td>\n",
              "      <td>1.0</td>\n",
              "      <td>0.0</td>\n",
              "      <td>1.0</td>\n",
              "      <td>0.0</td>\n",
              "      <td>0.0</td>\n",
              "      <td>1.0</td>\n",
              "      <td>0.0</td>\n",
              "      <td>1.0</td>\n",
              "      <td>0.0</td>\n",
              "      <td>1.0</td>\n",
              "    </tr>\n",
              "    <tr>\n",
              "      <th>...</th>\n",
              "      <td>...</td>\n",
              "      <td>...</td>\n",
              "      <td>...</td>\n",
              "      <td>...</td>\n",
              "      <td>...</td>\n",
              "      <td>...</td>\n",
              "      <td>...</td>\n",
              "      <td>...</td>\n",
              "      <td>...</td>\n",
              "      <td>...</td>\n",
              "      <td>...</td>\n",
              "      <td>...</td>\n",
              "      <td>...</td>\n",
              "      <td>...</td>\n",
              "      <td>...</td>\n",
              "      <td>...</td>\n",
              "      <td>...</td>\n",
              "      <td>...</td>\n",
              "      <td>...</td>\n",
              "      <td>...</td>\n",
              "    </tr>\n",
              "    <tr>\n",
              "      <th>611</th>\n",
              "      <td>1.0</td>\n",
              "      <td>7600.0</td>\n",
              "      <td>0.0</td>\n",
              "      <td>182.0</td>\n",
              "      <td>360.0</td>\n",
              "      <td>1.0</td>\n",
              "      <td>0.0</td>\n",
              "      <td>0.0</td>\n",
              "      <td>1.0</td>\n",
              "      <td>0.0</td>\n",
              "      <td>1.0</td>\n",
              "      <td>0.0</td>\n",
              "      <td>1.0</td>\n",
              "      <td>0.0</td>\n",
              "      <td>0.0</td>\n",
              "      <td>1.0</td>\n",
              "      <td>0.0</td>\n",
              "      <td>1.0</td>\n",
              "      <td>0.0</td>\n",
              "      <td>1.0</td>\n",
              "    </tr>\n",
              "    <tr>\n",
              "      <th>471</th>\n",
              "      <td>1.0</td>\n",
              "      <td>2330.0</td>\n",
              "      <td>1483.0</td>\n",
              "      <td>94.0</td>\n",
              "      <td>180.0</td>\n",
              "      <td>0.0</td>\n",
              "      <td>1.0</td>\n",
              "      <td>0.0</td>\n",
              "      <td>0.0</td>\n",
              "      <td>0.0</td>\n",
              "      <td>1.0</td>\n",
              "      <td>0.0</td>\n",
              "      <td>1.0</td>\n",
              "      <td>0.0</td>\n",
              "      <td>0.0</td>\n",
              "      <td>0.0</td>\n",
              "      <td>1.0</td>\n",
              "      <td>1.0</td>\n",
              "      <td>0.0</td>\n",
              "      <td>0.0</td>\n",
              "    </tr>\n",
              "    <tr>\n",
              "      <th>291</th>\n",
              "      <td>1.0</td>\n",
              "      <td>3846.0</td>\n",
              "      <td>0.0</td>\n",
              "      <td>105.0</td>\n",
              "      <td>360.0</td>\n",
              "      <td>0.0</td>\n",
              "      <td>0.0</td>\n",
              "      <td>1.0</td>\n",
              "      <td>0.0</td>\n",
              "      <td>0.0</td>\n",
              "      <td>1.0</td>\n",
              "      <td>0.0</td>\n",
              "      <td>0.0</td>\n",
              "      <td>1.0</td>\n",
              "      <td>0.0</td>\n",
              "      <td>1.0</td>\n",
              "      <td>0.0</td>\n",
              "      <td>1.0</td>\n",
              "      <td>0.0</td>\n",
              "      <td>0.0</td>\n",
              "    </tr>\n",
              "    <tr>\n",
              "      <th>797</th>\n",
              "      <td>0.0</td>\n",
              "      <td>4000.0</td>\n",
              "      <td>3917.0</td>\n",
              "      <td>173.0</td>\n",
              "      <td>300.0</td>\n",
              "      <td>1.0</td>\n",
              "      <td>1.0</td>\n",
              "      <td>0.0</td>\n",
              "      <td>0.0</td>\n",
              "      <td>0.0</td>\n",
              "      <td>1.0</td>\n",
              "      <td>0.0</td>\n",
              "      <td>1.0</td>\n",
              "      <td>0.0</td>\n",
              "      <td>0.0</td>\n",
              "      <td>1.0</td>\n",
              "      <td>0.0</td>\n",
              "      <td>1.0</td>\n",
              "      <td>0.0</td>\n",
              "      <td>0.0</td>\n",
              "    </tr>\n",
              "    <tr>\n",
              "      <th>618</th>\n",
              "      <td>1.0</td>\n",
              "      <td>3159.0</td>\n",
              "      <td>0.0</td>\n",
              "      <td>66.0</td>\n",
              "      <td>360.0</td>\n",
              "      <td>1.0</td>\n",
              "      <td>0.0</td>\n",
              "      <td>0.0</td>\n",
              "      <td>1.0</td>\n",
              "      <td>1.0</td>\n",
              "      <td>0.0</td>\n",
              "      <td>1.0</td>\n",
              "      <td>0.0</td>\n",
              "      <td>0.0</td>\n",
              "      <td>0.0</td>\n",
              "      <td>0.0</td>\n",
              "      <td>1.0</td>\n",
              "      <td>1.0</td>\n",
              "      <td>0.0</td>\n",
              "      <td>1.0</td>\n",
              "    </tr>\n",
              "  </tbody>\n",
              "</table>\n",
              "<p>154 rows × 20 columns</p>\n",
              "</div>"
            ],
            "text/plain": [
              "     Gender  ApplicantIncome  ...  Self_Employed_Yes  Loan_Status_Predicted\n",
              "840     1.0           2226.0  ...                0.0                    1.0\n",
              "159     1.0           3958.0  ...                0.0                    1.0\n",
              "148     0.0           9504.0  ...                0.0                    0.0\n",
              "17      0.0           3510.0  ...                0.0                    0.0\n",
              "808     1.0          10000.0  ...                0.0                    1.0\n",
              "..      ...              ...  ...                ...                    ...\n",
              "611     1.0           7600.0  ...                0.0                    1.0\n",
              "471     1.0           2330.0  ...                0.0                    0.0\n",
              "291     1.0           3846.0  ...                0.0                    0.0\n",
              "797     0.0           4000.0  ...                0.0                    0.0\n",
              "618     1.0           3159.0  ...                0.0                    1.0\n",
              "\n",
              "[154 rows x 20 columns]"
            ]
          },
          "metadata": {
            "tags": []
          },
          "execution_count": 118
        }
      ]
    },
    {
      "cell_type": "markdown",
      "metadata": {
        "id": "TiP5CzNojtGc"
      },
      "source": [
        "Disparate Impact is defined as the ratio of favorable outcomes for the unpriviliged group divided by the ratio of favorable outcomes for the priviliged group. The acceptable threshold is between .8 and 1.25, with .8 favoring the priviliged group, and 1.25 favoring the unpriviliged group."
      ]
    },
    {
      "cell_type": "code",
      "metadata": {
        "id": "7B4NlPFTjtGc"
      },
      "source": [
        "# Priviliged group: Males (1)\n",
        "# Unpriviliged group: Females (0)\n",
        "male_df = transformed_output[transformed_output['Gender'] == 1]\n",
        "num_of_priviliged = male_df.shape[0]\n",
        "\n",
        "female_df = transformed_output[transformed_output['Gender'] == 0]\n",
        "num_of_unpriviliged = female_df.shape[0]"
      ],
      "execution_count": 119,
      "outputs": []
    },
    {
      "cell_type": "code",
      "metadata": {
        "id": "YdFgNoWFjtGc",
        "colab": {
          "base_uri": "https://localhost:8080/"
        },
        "outputId": "4d80b93f-de8f-4307-9e8a-3f8615a1cc43"
      },
      "source": [
        "# calculation of unprivileged ratio\n",
        "unpriviliged_outcomes = female_df[female_df['Loan_Status_Predicted'] == 1].shape[0]\n",
        "unpriviliged_ratio = unpriviliged_outcomes/num_of_unpriviliged\n",
        "unpriviliged_ratio"
      ],
      "execution_count": 120,
      "outputs": [
        {
          "output_type": "execute_result",
          "data": {
            "text/plain": [
              "0.5142857142857142"
            ]
          },
          "metadata": {
            "tags": []
          },
          "execution_count": 120
        }
      ]
    },
    {
      "cell_type": "code",
      "metadata": {
        "id": "BID7rZOljtGc",
        "colab": {
          "base_uri": "https://localhost:8080/"
        },
        "outputId": "cb2e3ca9-f1a7-4030-c5b4-bf50d22bdf92"
      },
      "source": [
        "# calculation of privileged ration\n",
        "\n",
        "priviliged_outcomes = male_df[male_df['Loan_Status_Predicted'] == 1].shape[0]\n",
        "priviliged_ratio = priviliged_outcomes/num_of_priviliged\n",
        "priviliged_ratio"
      ],
      "execution_count": 121,
      "outputs": [
        {
          "output_type": "execute_result",
          "data": {
            "text/plain": [
              "0.7226890756302521"
            ]
          },
          "metadata": {
            "tags": []
          },
          "execution_count": 121
        }
      ]
    },
    {
      "cell_type": "code",
      "metadata": {
        "id": "Xj-D4hKjjtGd",
        "colab": {
          "base_uri": "https://localhost:8080/"
        },
        "outputId": "bc6f7693-83e6-4309-a33c-804c3493bdb0"
      },
      "source": [
        "# Calculating disparate impact\n",
        "disparate_impact = unpriviliged_ratio / priviliged_ratio\n",
        "print(\"Disparate Impact, Sex vs. Predicted Loan Status: \" + str(disparate_impact))"
      ],
      "execution_count": 122,
      "outputs": [
        {
          "output_type": "stream",
          "text": [
            "Disparate Impact, Sex vs. Predicted Loan Status: 0.7116279069767442\n"
          ],
          "name": "stdout"
        }
      ]
    },
    {
      "cell_type": "code",
      "metadata": {
        "id": "cg4KGavsjtGd"
      },
      "source": [
        "# After fixing the bias, we were successfully able to reduce the Disparate Impact, still not in acceptable range"
      ],
      "execution_count": null,
      "outputs": []
    }
  ]
}