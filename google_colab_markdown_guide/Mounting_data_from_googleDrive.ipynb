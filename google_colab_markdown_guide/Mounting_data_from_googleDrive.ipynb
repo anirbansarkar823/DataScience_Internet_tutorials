{
  "nbformat": 4,
  "nbformat_minor": 2,
  "metadata": {
    "colab": {
      "name": "Markdown Guide",
      "provenance": [],
      "collapsed_sections": []
    },
    "kernelspec": {
      "display_name": "Python 3",
      "name": "python3"
    }
  },
  "cells": [
    {
      "cell_type": "markdown",
      "source": [
        "**Importing data from local storage**"
      ],
      "metadata": {}
    },
    {
      "cell_type": "code",
      "execution_count": null,
      "source": [
        "# reading file from local machine\r\n",
        "from google.colab import files\r\n",
        "uploaded = files.upload()"
      ],
      "outputs": [],
      "metadata": {}
    },
    {
      "cell_type": "code",
      "execution_count": null,
      "source": [
        "import io\r\n",
        "df_data = pd.read_csv(io.BytesIO(uploaded['telecom_users.csv']))\r\n",
        "# Dataset is now stored in a Pandas Dataframe"
      ],
      "outputs": [],
      "metadata": {}
    },
    {
      "cell_type": "code",
      "execution_count": null,
      "source": [
        "# another try to read from google drive\r\n",
        "from google.colab import drive\r\n",
        "drive.mount('/content/drive')"
      ],
      "outputs": [],
      "metadata": {}
    },
    {
      "cell_type": "code",
      "execution_count": null,
      "source": [
        "path = \"/content/drive/MyDrive/Colab_Notebooks/telecom_users.csv\"\r\n",
        "df_data = pd.read_csv(path)\r\n",
        "# Dataset is now stored in a Pandas Dataframe\r\n",
        "df_data.head()"
      ],
      "outputs": [],
      "metadata": {}
    }
  ]
}